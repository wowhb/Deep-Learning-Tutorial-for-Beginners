{
 "cells": [
  {
   "cell_type": "markdown",
   "metadata": {
    "_cell_guid": "6f7e7923-bf6d-4e89-a4d2-601f11648598",
    "_uuid": "a5f2d3f6246fe1c767e3b9469c17d1bf09c04708"
   },
   "source": [
    "<font color='green'>\n",
    "    \n",
    "**Deep Learning Tutorial for Beginners 을 시작 해보겠습니다.** \n",
    "    \n",
    "* 이 노트북은 Data ScienceTutorial for Beginners(https://github.com/wowhb/Data-Science-Tutorial-for-Beginners) 를 이어서 작성하는 것으로 Deep Learning Tutorial 이라고 생각하시면 됩니다. kaggle 의 DATAI팀의 작업물은 번역 및 보완 한 노트북입니다.\n",
    "    \n",
    "* 이번 노트북에서 기본적인 모든 것을 하나하나 설명하려고 합니다.     \n",
    "* 키워드를 중심으로 정의합니다.\n",
    "* 이 튜토리얼의 끝에는 딥러닝에 대한 충분한 정보가 수록되어 있어 더 깊이 학습할 수 있습니다.\n",
    "* 내용을 살펴보겠습니다. 먼저 컨텐츠의 구성 목차를 보고 시작하세요.\n",
    "\n",
    "<font color='red'>\n",
    "<br>Content:\n",
    "    \n",
    "* [Introduction](#1)\n",
    "* [Overview the Data Set](#2)\n",
    "* [Logistic Regression](#3)\n",
    "    * [Computation Graph](#4)\n",
    "    * [Initializing parameters](#5)\n",
    "    * [Forward Propagation](#6)\n",
    "        * Sigmoid Function\n",
    "        * Loss(error) Function\n",
    "        * Cost Function\n",
    "    * [Optimization Algorithm with Gradient Descent](#7)\n",
    "        * Backward Propagation\n",
    "        * Updating parameters\n",
    "    * [Logistic Regression with Sklearn](#8)\n",
    "    * [Summary and Questions in Minds](#9)\n",
    "    \n",
    "* [Artificial Neural Network](#10)\n",
    "    * [2-Layer Neural Network](#11)\n",
    "        * [Size of layers and initializing parameters weights and bias](#12)\n",
    "        * [Forward propagation](#13)\n",
    "        * [Loss function and Cost function](#14)\n",
    "        * [Backward propagation](#15)\n",
    "        * [Update Parameters](#16)\n",
    "        * [Prediction with learnt parameters weight and bias](#17)\n",
    "        * [Create Model](#18)\n",
    "    * [L-Layer Neural Network](#19)\n",
    "        * [Implementing with keras library](#22)\n",
    "* Time Series Prediction: https://www.kaggle.com/kanncaa1/time-series-prediction-with-eda-of-world-war-2\n",
    "* [Artificial Neural Network with Pytorch Library](#23)\n",
    "* [Convolutional Neural Network with Pytorch Library](#24)\n",
    "* [Recurrent Neural Network with Pytorch Library](#25)\n",
    "* [Conclusion](#20)\n",
    "\n"
   ]
  },
  {
   "cell_type": "markdown",
   "metadata": {
    "_cell_guid": "036bf2c0-c146-4c70-b29d-206db0fe91b0",
    "_uuid": "01d54760756dd2bc5c2a309f2862833c079a3303"
   },
   "source": [
    "<a id=\"1\"></a> <br>\n",
    "# INTRODUCTION\n",
    "* **Deep learning:** One of the machine learning technique that learns features directly from data. 정의 그대로 데이터에서 직접 기능을 학습하는 머신러닝 기법 중 하나입니다.  \n",
    "  \n",
    "* **Why deep learning:** 데이터의 양이 증가하면, 머신러닝은 성능 면에서 불충분하고 딥러닝은 정확성과 같은 성능면에서 더 나은 성능을 제공합니다.\n",
    "<a href=\"http://ibb.co/m2bxcc\"><img src=\"http://preview.ibb.co/d3CEOH/1.png\" alt=\"1\" border=\"0\"></a>\n",
    "* **What is amounth of big:** 대답하기 어렵지만 직관적으로 100만 개의 샘플이 \"빅데이터\"라고 말하기에 충분합니다.  \n",
    "* **Usage fields of deep learning:** 음성 인식, 이미지 분류, 자연어 처리(nlp) 또는 추천 시스템 등등이 있습니다.\n",
    "* **What is difference of deep learning from machine learning:** \n",
    "    * 머신러닝은 딥러닝을 커버합니다.\n",
    "    * 머신러닝에서는 feature 가 수동으로 학습을 실시합니다.\n",
    "    * 한편, 딥러닝은 데이터로부터 직접 feature를 학습합니다.\n",
    "<a href=\"http://ibb.co/f8Epqx\"><img src=\"http://preview.ibb.co/hgpNAx/2.png\" alt=\"2\" border=\"0\"></a>\n",
    "\n",
    "<br>데이터를 먼저 살펴보겠습니다"
   ]
  },
  {
   "cell_type": "code",
   "execution_count": 1,
   "metadata": {
    "_cell_guid": "6fe1e8d5-b36d-4e39-9a9b-34618b5e275e",
    "_uuid": "79f18357b846d2cd91e0f7b2389e1dba8097cbdb"
   },
   "outputs": [],
   "source": [
    "import numpy as np \n",
    "import pandas as pd \n",
    "import matplotlib.pyplot as plt\n",
    "import warnings\n",
    "\n",
    "warnings.filterwarnings('ignore')"
   ]
  },
  {
   "cell_type": "code",
   "execution_count": 2,
   "metadata": {},
   "outputs": [
    {
     "data": {
      "text/plain": [
       "'C:\\\\Users\\\\BIN\\\\Deep Learning Tutorial for Beginners'"
      ]
     },
     "execution_count": 2,
     "metadata": {},
     "output_type": "execute_result"
    }
   ],
   "source": [
    "import os\n",
    "os.getcwd() #제가 작업하고 있는 경로를 먼저 파악합니다."
   ]
  },
  {
   "cell_type": "code",
   "execution_count": 3,
   "metadata": {},
   "outputs": [
    {
     "name": "stdout",
     "output_type": "stream",
     "text": [
      "['.ipynb_checkpoints', 'Deep Learning Tutorial for Beginners.ipynb', 'X.npy', 'X.npy.zip', 'Y.npy']\n"
     ]
    }
   ],
   "source": [
    "print(os.listdir(os.getcwd()))"
   ]
  },
  {
   "cell_type": "code",
   "execution_count": 4,
   "metadata": {},
   "outputs": [
    {
     "name": "stdout",
     "output_type": "stream",
     "text": [
      "X.npy.zip\n",
      "C:\\Users\\BIN\\Deep Learning Tutorial for Beginners\\X.npy.zip\n",
      "C:\\Users\\BIN\\Deep Learning Tutorial for Beginners\\X.npy.zip\n"
     ]
    }
   ],
   "source": [
    "# 제가 불러올 데이터의 경로를 파악합니다. \n",
    "print('X.npy.zip')\n",
    "print(os.path.realpath('X.npy.zip'))\n",
    "print(os.path.abspath('X.npy.zip'))"
   ]
  },
  {
   "cell_type": "code",
   "execution_count": 5,
   "metadata": {},
   "outputs": [
    {
     "name": "stdout",
     "output_type": "stream",
     "text": [
      "file_list: ['.ipynb_checkpoints', 'Deep Learning Tutorial for Beginners.ipynb', 'X.npy', 'X.npy.zip', 'Y.npy']\n"
     ]
    }
   ],
   "source": [
    "path = \"./\"\n",
    "file_list = os.listdir(path)\n",
    "\n",
    "print (\"file_list: {}\".format(file_list))"
   ]
  },
  {
   "cell_type": "code",
   "execution_count": 6,
   "metadata": {},
   "outputs": [
    {
     "name": "stdout",
     "output_type": "stream",
     "text": [
      "C:\\Users\\BIN\\Deep Learning Tutorial for Beginners\\Deep Learning Tutorial for Beginners.ipynb\n",
      "C:\\Users\\BIN\\Deep Learning Tutorial for Beginners\\X.npy.zip\n",
      "C:\\Users\\BIN\\Deep Learning Tutorial for Beginners\\Y.npy\n",
      "C:\\Users\\BIN\\Deep Learning Tutorial for Beginners\\.ipynb_checkpoints\\Deep Learning Tutorial for Beginners-checkpoint.ipynb\n",
      "C:\\Users\\BIN\\Deep Learning Tutorial for Beginners\\X.npy\\X.npy\n"
     ]
    }
   ],
   "source": [
    "for dirname,_,filenames in os.walk('C:\\\\Users\\\\BIN\\\\Deep Learning Tutorial for Beginners') :\n",
    "    for filename in filenames :\n",
    "        print(os.path.join(dirname, filename))"
   ]
  },
  {
   "cell_type": "markdown",
   "metadata": {},
   "source": [
    "<a id=\"Overview the Data Set\"></a> <br>\n",
    "# Overview the Data Set\n",
    "* 본 튜토리얼에는 \"sign language digits data set\"를 사용할 것이다.  \n",
    "* 이 데이터에는 2062개의 수화 숫자 이미지가 있습니다.  \n",
    "* 알다시피 숫자는 0에서 9까지 입니다. 따라서 10개의 독특한 표지판이 있습니다.  \n",
    "* 튜토리얼의 시작 부분에서는 단순성을 위해 sign 0과 1만 사용할 것입니다.  \n",
    "* 데이터에서 0은 index 204와 408 사이에 있습니다. 0의 index의 개수는 205입니다.  \n",
    "* 또한 1은 index 822와 1027 사이에 있습니다. 1개의 sign은 206개입니다. 따라서 각 classes(레이블)에서 205개의 샘플들을 사용할 것입니다.\n",
    "* 참고: 실제로 205개의 샘플은 딥러닝에 매우 적습니다. 하지만 이것은 튜토리얼이기 때문에 그다지 중요하지 않습니다.\n",
    "* X 및 Y array를 준비하겠습니다. \n",
    "* X는 이미지 array(0과 1의 sign)이고 Y는 레이블 배열(0과 1)이다.\n",
    "\n",
    "\n",
    "#### 간단하게 직관적으로 설명해 보자면 X 이미지 (레이블이 0과 1뿐인) 를 가지고 훈련을 시키고 이미지를 보고 그 수화이미지가 가르키는게 0인지 1인지를 분류하는 작업이라고 생각하면 됩니다. "
   ]
  },
  {
   "cell_type": "code",
   "execution_count": 7,
   "metadata": {
    "_cell_guid": "4768ce70-3e7f-4ac9-8764-642e88006b77",
    "_uuid": "d6b38399b27c2d723750c0b4f8787a7d6d0025ea"
   },
   "outputs": [
    {
     "data": {
      "text/plain": [
       "(-0.5, 63.5, 63.5, -0.5)"
      ]
     },
     "execution_count": 7,
     "metadata": {},
     "output_type": "execute_result"
    },
    {
     "data": {
      "image/png": "[encoded data removed]",
      "text/plain": [
       "<Figure size 432x288 with 4 Axes>"
      ]
     },
     "metadata": {
      "needs_background": "light"
     },
     "output_type": "display_data"
    }
   ],
   "source": [
    "# load data set\n",
    "# 0은 index 204와 408 사이에 있습니다\n",
    "# 1은 index 822와 1027 사이에 있습니다 \n",
    "# 하나씩 임의로 불러와서 확인해 보겠습니다\n",
    "x_l = np.load('X.npy\\X.npy')\n",
    "Y_l = np.load('Y.npy')\n",
    "img_size = 64\n",
    "plt.subplot(1, 4, 1)\n",
    "plt.imshow(x_l[260].reshape(img_size, img_size))\n",
    "plt.axis('off')\n",
    "plt.subplot(1, 4, 2)\n",
    "plt.imshow(x_l[900].reshape(img_size, img_size))\n",
    "plt.axis('off')\n",
    "plt.subplot(1, 4, 3)\n",
    "plt.imshow(x_l[204].reshape(img_size, img_size))\n",
    "plt.axis('off')\n",
    "plt.subplot(1, 4, 4)\n",
    "plt.imshow(x_l[1027].reshape(img_size, img_size))\n",
    "plt.axis('off')"
   ]
  },
  {
   "cell_type": "markdown",
   "metadata": {
    "_cell_guid": "1c9cf8f2-f318-4f69-b92e-9c1bfe78c2c7",
    "_uuid": "c12d1854c6f5fb43c8f081083a441585ed48dc93"
   },
   "source": [
    "* image array를 생성하기 위해서 sign 0 과 sign 1 array 를 연결해야 합니다.\n",
    "* 그런다음 0 sign 의 image 에는 0이라는 레이블을 1 sign 의 image 에는 1이라는 레이블을 부여해야합니다."
   ]
  },
  {
   "cell_type": "code",
   "execution_count": 8,
   "metadata": {
    "_cell_guid": "88a9b18b-12c7-46d6-8370-e2f02b55dd7a",
    "_uuid": "ad417f6189b0d9476388d92b6be09c887f7f1a40"
   },
   "outputs": [
    {
     "name": "stdout",
     "output_type": "stream",
     "text": [
      "X shape:  (410, 64, 64)\n",
      "Y shape:  (410, 1)\n"
     ]
    }
   ],
   "source": [
    "# 행 축을 따라 array 순서를 결합합니다\n",
    "X = np.concatenate((x_l[204:409], x_l[822:1027] ), axis=0) \n",
    "# index 0부터 204 까지는 label 0 을 205 부터 410 까지는 label 1 을 부여합니다.\n",
    "z = np.zeros(205)\n",
    "o = np.ones(205)\n",
    "Y = np.concatenate((z, o), axis=0).reshape(X.shape[0],1)\n",
    "print(\"X shape: \" , X.shape)\n",
    "print(\"Y shape: \" , Y.shape)"
   ]
  },
  {
   "cell_type": "markdown",
   "metadata": {
    "_cell_guid": "d6024477-cf34-40f9-b079-8388b5146e1b",
    "_uuid": "a999c02e74af603d65a4442842d739aa351f593c"
   },
   "source": [
    "* X의 shape은 (410, 64, 64)\n",
    "    * 410은 우리가 410개의 이미지를 가지고 있다는 것을 의미합니다. (0과 1개의 sign)\n",
    "    * 64는 이미지 크기가 64x64(64x64픽셀)임을 의미합니다\n",
    "* Y의 shape (410,1))\n",
    "    *  410은 우리가 410개의 라벨을 가지고 있다는 것을 의미합니다. (0과 1)\n",
    "* X와 Y를 train sets 와 test sets 로 나누겠습니다.\n",
    "    * test_size = test = 15%, train = 75%\n",
    "    * random_state = 랜덤화하면서 동일한 시드 사용합니다. train_test_split를 반복해서 부르면 항상 같은 train과 test분포를 만들어 낸다는 뜻인데, 이는 우리가 같은 random_state를 가지고 있기 때문입니다."
   ]
  },
  {
   "cell_type": "code",
   "execution_count": 9,
   "metadata": {
    "_cell_guid": "00db1f03-75d3-48dc-a6fb-824a58790d42",
    "_uuid": "82869efdb6890ede1899c1bc8c90fa8b1caceec3"
   },
   "outputs": [],
   "source": [
    "# 그런 다음 x_train, y_train, x_test, y_test 들 array를 생성합니다\n",
    "from sklearn.model_selection import train_test_split\n",
    "X_train, X_test, Y_train, Y_test = train_test_split(X, Y, test_size=0.15, random_state=42)\n",
    "number_of_train = X_train.shape[0]\n",
    "number_of_test = X_test.shape[0]"
   ]
  },
  {
   "cell_type": "code",
   "execution_count": 10,
   "metadata": {},
   "outputs": [
    {
     "name": "stdout",
     "output_type": "stream",
     "text": [
      "348\n",
      "62\n"
     ]
    }
   ],
   "source": [
    "print(X_train.shape[0])\n",
    "print(X_test.shape[0])"
   ]
  },
  {
   "cell_type": "markdown",
   "metadata": {
    "_cell_guid": "4bb55e07-cabb-46ce-b21a-fe4a7b34995f",
    "_uuid": "e294dc952e7ba34569162a8965680ead8edd2834"
   },
   "source": [
    "* 이제 우리는 3차원 input array(X)을 가지고 있으므로 첫 번째 딥러닝 모델의 입력으로 사용하기 위해서는 flatten(2D)을 만들어야 합니다.\n",
    "* 우리의 레이블 array(Y)은 이미 flatten(2D) data 이기 때문에 그대로 둡니다.\n",
    "* X data 를 flatten 해보겠습니다.\n"
   ]
  },
  {
   "cell_type": "code",
   "execution_count": 11,
   "metadata": {
    "_cell_guid": "f5937123-1e16-4036-844b-f498ed42e504",
    "_uuid": "f8b7203144bc85873d960f765e2bb3e711b57f30"
   },
   "outputs": [
    {
     "name": "stdout",
     "output_type": "stream",
     "text": [
      "X train flatten (348, 4096)\n",
      "X test flatten (62, 4096)\n"
     ]
    }
   ],
   "source": [
    "X_train_flatten = X_train.reshape(number_of_train,X_train.shape[1]*X_train.shape[2])\n",
    "X_test_flatten = X_test .reshape(number_of_test,X_test.shape[1]*X_test.shape[2])\n",
    "print(\"X train flatten\",X_train_flatten.shape)\n",
    "print(\"X test flatten\",X_test_flatten.shape)"
   ]
  },
  {
   "cell_type": "markdown",
   "metadata": {
    "_cell_guid": "dab40a5b-e319-4807-a608-12065d860847",
    "_uuid": "cb26fc242ffcae8bf8f164d32dc9c5436e8312fc"
   },
   "source": [
    "* 보시다시피, 우리는 348개의 이미지를 가지고 있고 각각의 이미지는 4096개의 픽셀을 가지고 있습니다.\n",
    "* 또한 우리는 62개의 이미지를 가지고 있고 각각의 이미지는 4096개의 픽셀을 가지고 있습니다."
   ]
  },
  {
   "cell_type": "code",
   "execution_count": 12,
   "metadata": {
    "_cell_guid": "ad9bee66-78f1-44ec-a114-465356b9cc7d",
    "_uuid": "88eef1b839ee51234a53da3ccb1e36a2e5e9a0e6"
   },
   "outputs": [
    {
     "name": "stdout",
     "output_type": "stream",
     "text": [
      "x train:  (4096, 348)\n",
      "x test:  (4096, 62)\n",
      "y train:  (1, 348)\n",
      "y test:  (1, 62)\n"
     ]
    }
   ],
   "source": [
    "x_train = X_train_flatten.T\n",
    "x_test = X_test_flatten.T\n",
    "y_train = Y_train.T\n",
    "y_test = Y_test.T\n",
    "print(\"x train: \",x_train.shape)\n",
    "print(\"x test: \",x_test.shape)\n",
    "print(\"y train: \",y_train.shape)\n",
    "print(\"y test: \",y_test.shape)"
   ]
  },
  {
   "cell_type": "markdown",
   "metadata": {
    "_cell_guid": "0dfdae4c-5c3e-4ebd-8714-2ecf974ef2fa",
    "_uuid": "ed7b18eea8062e401823686bb2f672e1c548fac0"
   },
   "source": [
    "<font color='purple'>\n",
    "    \n",
    "지금까지 진행한 사항:  \n",
    "    \n",
    "* sign 0과 sign1 을 선택하고 그에 대응하는 label 0 과 1 을 연결시켰습니다.\n",
    "* train set과 test set으로 나누고 flatten data 로 변형시켰습니다.\n",
    "* 최종적으로 우리의 input과 output 은 다음 그림으로 표현해보겠습니다:\n",
    "<a href=\"http://ibb.co/bWMK7c\"><img src=\"http://image.ibb.co/fOqCSc/3.png\" alt=\"3\" border=\"0\"></a>"
   ]
  },
  {
   "cell_type": "markdown",
   "metadata": {
    "_cell_guid": "8b5f8812-f21c-4936-91b9-d33048dec40b",
    "_uuid": "5f037b5d3f44a9bf139dddb7946c0b33cf7d0298",
    "collapsed": true
   },
   "source": [
    "<a id=\"3\"></a> <br>\n",
    "# Logistic Regression\n",
    "* 이진분류(0과 1 출력)를 이야기할 때 가장 먼저 떠오르는 것은 로지스틱 회귀입니다.\n",
    "* 그러나 딥러닝 튜토리얼에서는 로지스틱 회귀 분석을 어떻게 해야 할까요?\n",
    "* 해답은 로지스틱 회귀는 사실 매우 단순한 신경망이라는 것입니다.\n",
    "* 그런데 신경망과 딥러닝은 같은 것입니다. \"deep\"과 같은 용어에 대해 자세히 설명할 것입니다.\n",
    "* 로지스틱 회귀(단순 딥러닝)를 이해하기 위해 먼저 Computation Graph를 학습해보겠습니다."
   ]
  },
  {
   "cell_type": "markdown",
   "metadata": {
    "_cell_guid": "9db2d7f4-0393-47d2-bbf3-88600177b4d1",
    "_uuid": "e2f49564d7d487417546d3b1ce94bc63e6394632"
   },
   "source": [
    "<a id=\"4\"></a> <br>\n",
    "##  Computation Graph\n",
    "* Computation graphs 는 수학적 표현에 대해 생각해보는 좋은 방법입니다.\n",
    "* 수학적 표현을 시각화하는 것과 같습니다.\n",
    "* 예를들자면   \n",
    "  $$c = \\sqrt{a^2 + b^2}$$\n",
    "* 보다시피 우리는 수학을 그래프로 표현합니다.\n",
    "<a href=\"http://imgbb.com/\"><img src=\"http://image.ibb.co/hWn6Lx/d.jpg\" alt=\"d\" border=\"0\"></a>"
   ]
  },
  {
   "cell_type": "markdown",
   "metadata": {
    "_cell_guid": "7c968bd6-39d6-4497-add1-6fd1eb331659",
    "_uuid": "5060aff503466a5c54bcf76a545484abda032e03"
   },
   "source": [
    "* 이제 로지스틱 회귀 분석의 computation graph 를 살펴봅시다.\n",
    "<a href=\"http://ibb.co/c574qx\"><img src=\"http://preview.ibb.co/cxP63H/5.jpg\" alt=\"5\" border=\"0\"></a>\n",
    "    * Parameters 는 weight 와 bias 입니다.\n",
    "    * Weights: coefficients(계수) of each pixels\n",
    "    * Bias: intercept\n",
    "    * z = (w.t)x + b  => z equals to (transpose of weights times input x) + bias \n",
    "    * 다시말하자면 => z = b + px1*w1 + px2*w2 + ... + px4096*w4096\n",
    "    * y_head = sigmoid(z)\n",
    "    * Sigmoid function은 z를 0과 1 사이로 만들 확률입니다. computation graph에서 sigmoid 함수를 볼 수 있습니다.\n",
    "* Why we use sigmoid function?\n",
    "    * 확률론적 결과를 제공합니다.\n",
    "    * gradient descent algorithm에서 사용할 수 있습니다 (곧 알게 될것입니다.)\n",
    "* 예를 들어보겠습니다:\n",
    "    * z = 4를 찾아 z를 sigmoid 함수에 넣었다고 가정하겠습니다. 결과(y_head)는 거의 0.9입니다. 그것은 우리의 분류 결과가 90% 확률로 1이라는 것을 의미합니다.\n",
    "* 이제 처음부터 computation graph의 각 구성 요소를 하나하나 자세히 살펴보겠습니다."
   ]
  },
  {
   "cell_type": "markdown",
   "metadata": {
    "_cell_guid": "b9ec7e1d-186b-4911-be80-bc856f43b689",
    "_uuid": "40c4a1af2372960d36b6649f5baf4915e9e16738"
   },
   "source": [
    "<a id=\"5\"></a> <br>\n",
    "## Initializing parameters\n",
    "* 알다시피 입력은 4096픽셀(x_train의 각 이미지)\n",
    "* 각 각의 픽셀은 자체의 weight 가 있습니다\n",
    "* 첫 번째 단계는 각각의 픽셀에 각각의 weight를 곱하는 것이다.\n",
    "* 문제는 가중치의 초기 값은 무엇일까요?\n",
    "    * 인공신경망에서 설명할 기법도 있지만, 이때의 초기 weight는 0.01입니다\n",
    "    * weight는 0.01인데 weight array shape은? 로지스틱 회귀 분석의 computation graph에서 이해한 바와 같이 (4096,1) 입니다\n",
    "    * 또한 초기 bias는 0입니다.\n",
    "* 코드를 좀 써보겠습니다."
   ]
  },
  {
   "cell_type": "code",
   "execution_count": 13,
   "metadata": {
    "_cell_guid": "74d461fc-4aa9-4b76-bd26-43551cef138b",
    "_uuid": "f3be95b8ca86fea08336badabf563b5f8f59a142"
   },
   "outputs": [],
   "source": [
    "# 정의의 간단한 설명 및 예\n",
    "def dummy(parameter):\n",
    "    dummy_parameter = parameter + 5\n",
    "    return dummy_parameter\n",
    "result = dummy(3)     # result = 8\n",
    "\n",
    "# 매개 변수를 초기화할 수 있습니다\n",
    "# So what we need is dimension 4096 that is number of pixels as a parameter for our initialize method(def)\n",
    "def initialize_weights_and_bias(dimension):\n",
    "    w = np.full((dimension,1),0.01)\n",
    "    b = 0.0\n",
    "    return w, b"
   ]
  },
  {
   "cell_type": "code",
   "execution_count": 14,
   "metadata": {
    "_uuid": "d71d5b420ee146833d479781ea889eeebcb74e47"
   },
   "outputs": [],
   "source": [
    "#w,b = initialize_weights_and_bias(4096)"
   ]
  },
  {
   "cell_type": "markdown",
   "metadata": {
    "_cell_guid": "1fbf27d5-1f4b-4b94-a757-99e2becf54a0",
    "_uuid": "dde6fab55966b2de3dc808e03613df9bea7bb0d2"
   },
   "source": [
    "<a id=\"6\"></a> <br>\n",
    "## Forward Propagation\n",
    "* 픽셀부터 비용까지 모든 단계를 forward propagation 라 합니다.\n",
    "    * z = (w.T)x + b => 이 방정식에서 우리는 픽셀 array인 x를 알고 있고, w(weight)와 b(bias)를 알고 있으므로 나머지는 계산입니다.(T is transpose)\n",
    "    * 그런 다음 y_head(확률)를 반환하는 sigmoid 함수에 z를 넣습니다. 헷갈리신다면 가서 computation graph를 다시 보십시오. 또한 sigmoid 함수의 방정식은 computation graph에 있습니다.\n",
    "    * 그런 다음 손실(Loss) 함수를 계산합니다.\n",
    "    * 비용(Cost) 함수는 모든 손실(오류)의 합입니다.\n",
    "    * z와 입력 매개 변수로 z를 가져오고 y_head(확률)를 반환하는 쓰기 sigmoid 정의(방법)로 시작해보겠습니다"
   ]
  },
  {
   "cell_type": "code",
   "execution_count": 15,
   "metadata": {
    "_cell_guid": "697be401-792b-46c0-8fe6-79cd65110419",
    "_uuid": "e024479bce9ce2022f65ffd586a6c29b124e7ab5"
   },
   "outputs": [],
   "source": [
    "# calculation of z\n",
    "#z = np.dot(w.T,x_train)+b\n",
    "def sigmoid(z):\n",
    "    y_head = 1/(1+np.exp(-z))\n",
    "    return y_head"
   ]
  },
  {
   "cell_type": "code",
   "execution_count": 16,
   "metadata": {
    "_uuid": "da7e0244449200eaf382507806f01901f1d281c8"
   },
   "outputs": [
    {
     "data": {
      "text/plain": [
       "0.5"
      ]
     },
     "execution_count": 16,
     "metadata": {},
     "output_type": "execute_result"
    }
   ],
   "source": [
    "y_head = sigmoid(0)\n",
    "y_head"
   ]
  },
  {
   "cell_type": "markdown",
   "metadata": {
    "_cell_guid": "571dc02a-b25d-4726-ad2b-9661ae6783e2",
    "_uuid": "d67ca31d01cc8f03fdd862789454e4acf1b2033b"
   },
   "source": [
    "* Sigmoid method를 작성하고 y_head를 계산하면서 손실(오류) 기능이란 무엇인지 알아보겠습니다\n",
    "* 예를 들어, 하나의 이미지를 input으로 넣은 후 weight를 곱하고 bias를 추가하여 z를 찾도록 합니다. 그런 다음 z를 sigmoid method에 넣어 우리가 y_head를 찾을 수 있도록 합니다. 그 후 y_head가 0.5보다 큰 0.9가 되었기 때문에 이미지 하나가 sign하는 것이 우리의 예측입니다. 그런데 우리의 예측이 맞느냐, 틀리느냐, 어떻게 확인하느냐. 정답은 손실(loss) function입니다::\n",
    "    * 로그 loss(오류) function의 수학적 표현은 다음과 같습니다: \n",
    "    <a href=\"https://imgbb.com/\"><img src=\"https://image.ibb.co/eC0JCK/duzeltme.jpg\" alt=\"duzeltme\" border=\"0\"></a>\n",
    "    * 잘못 예측하면 손실(오류)이 커집니다. **DENKLEM DUZELTME**\n",
    "        * Example: 우리의 실제 이미지는 sign 1이고 그 label은 1(y = 1)이며, 그 다음 우리는 예측 y_head = 1을 만듭니다. y와 y_head를 손실(loss) 방정식에 넣었을 때 결과는 0이게 됩니다. 우리는 정확한 예측을 하기 때문에 우리의 loss는 0입니다. 그러나 y_head = 0과 같이 잘못된 예측을 하면 loss(오류)은 무한대가 되게 됩니다.\n",
    "* 그 후 비용함수는 손실함수의 합입니다. 각각의 이미지는 손실 기능을 만듭니다. 비용 함수는 각 입력 이미지에 의해 생성되는 손실 함수의 합입니다.\n",
    "* forward propagation 를 구현해 보겠습니다.\n"
   ]
  },
  {
   "cell_type": "code",
   "execution_count": 17,
   "metadata": {
    "_cell_guid": "adbc7d22-8bba-48c1-b754-75c9d4f0543c",
    "_uuid": "447f1ee51819fdfeba0e1ce0b03449cb549510ed"
   },
   "outputs": [],
   "source": [
    "# Forward propagation steps:\n",
    "# find z = w.T*x+b\n",
    "# y_head = sigmoid(z)\n",
    "# loss(error) = loss(y,y_head)\n",
    "# cost = sum(loss)\n",
    "def forward_propagation(w,b,x_train,y_train):\n",
    "    z = np.dot(w.T,x_train) + b\n",
    "    y_head = sigmoid(z) # probabilistic 0-1\n",
    "    loss = -y_train*np.log(y_head)-(1-y_train)*np.log(1-y_head)\n",
    "    cost = (np.sum(loss))/x_train.shape[1]      # x_train.shape[1]  is for scaling\n",
    "    return cost "
   ]
  },
  {
   "cell_type": "markdown",
   "metadata": {
    "_cell_guid": "b4700f54-c2c5-4a53-ad1f-7fd63f5cd2e9",
    "_uuid": "e577873215128f94fea2eb328de90a4f32b7f803"
   },
   "source": [
    "<a id=\"7\"></a> <br>\n",
    "##  Optimization Algorithm with Gradient Descent\n",
    "* 이제 우리는 오류인 loss 와 cost 가 무엇인지 알게 되었습니다\n",
    "* 즉, cost 가 높으면 우리가 잘못 예측한다는 것을 의미하기 때문에 cost를 줄여야 합니다\n",
    "* 모든 것은 weight 와 bias 를 초기화하는 것으로부터 시작됨을 생각해 봅시다. 즉, 모든것은 그것들에 게 달려있습니다\n",
    "* cost 를 낮추기 위해서는 weight 와 bias 를 조절하고 갱신해야 합니다\n",
    "* 다시 말해, 우리의 모델은 비용 기능을 최소화하는 모수 weight와 bias에 대해 배울 필요가 있습니다. 이 기법을 gradient descent 라고 합니다.\n",
    "* 예를 들어보겠습니다:\n",
    "    * 우리는 w = 5와 bias = 0을 가지고 있습니다(그러므로 일단은 bias은 무시합니다). 그리고 나서 우리는 Forward propagation를 하고 우리의 cost function은 1.5입니다다.\n",
    "    * 이것을 보세요. (빨간줄)\n",
    "    <a href=\"http://imgbb.com/\"><img src=\"http://image.ibb.co/dAaYJH/7.jpg\" alt=\"7\" border=\"0\"></a>\n",
    "    * 그래프에서 볼 수 있듯이, 우리는 최소 비용 함수가 아닙니다. 그러므로 우리는 최소한의 비용을 지불하는 것이 목적입니다. 그러면 weight를 업데이트 합시다. (:= 업데이트 중이라는 기호로 사용하겠습니다)\n",
    "    * w := w - step. 문제는 이 단계가 무엇인가 하는 것입니다. slope1을 보십시오. 최소점을 찾기 위해서, 우리는 slope1을 사용할 수 있습니다. 그럼 slope1 = 3이라고 하고 weight를 업데이트해보죠. w := w - slope1 => w = 2.\n",
    "    * 이제 우리 weight w는 2입니다. 기억하시겠지만, 우리는 Forward propagation를 통해 비용 기능을 다시 찾아야 합니다. \n",
    "    * w = 2를 사용한 Forward propagation에 따라 비용 함수는 0.4라고 합시다. 흠, 우리의 비용 기능이 감소하기 때문에 우리는 올바른 길을 가고 있다고 볼 수 있습니다. 우리는 비용 = 0.4인 비용 함수에 대한 새로운 값을 가지고 있지만 그게 충분한지 모르겠습니다 한 걸음 더 해보겠습니다.\n",
    "    * Slope2 = 0.7 그리고 w = 2. weight w : = w - step(slope2) => w = 1.3 로 업데이트 하고 새로운 비용함수를 찾아보겠습니다\n",
    "    * w = 1.3과 우리의 비용 = 0.3으로 한 번 더 Forward propagation를 만드세요. 괜찮아 보이는데, 충분한가요? 아니면 한 번 더 가야 할까요? 대답은 모른다는 겁니다, 한번 더 해보죠.\n",
    "    * Slope3 = 0.01 그리고 w = 1.3. Updating weight w := w - step(slope3) => w = 1.29 ~ 1.3. 그래서 우리는 최소한의 비용 기능을 찾기 때문에 weight는 변하지 않습니다.\n",
    "    * 모든 것이 좋아 보이는데 어떻게 slope를 찾을 수 있을까요? 고등학교나 대학교 때 기억한다면, 주어진 지점에서 기능(비용 함수)의 기울기를 찾기 위해 우리는 주어진 지점에서 미분을 취합니다. 또한 당신은 우리가 경사를 찾을 수 있지만 그것이 어디로 가는지 어떻게 알 수 있는지 물어볼 수 있습니다. 최소로 가는 대신에 더 높은 비용 값으로 갈 수 있다고 말할 수 있습니다. 경사(미분값)는 발걸음과 방향을 동시에 주는 것입니다다. 그러므로 걱정하지 마십시오.\n",
    "    * 업데이트 방정식은 이렇습니다. 비용함수(weight과 bias)가 있다고 합시다. weight와 bias에 따라 비용 함수의 미분함수를 취합니다. 그런 다음 α 학습 비율로 곱하십시오. 그런 다음 weight를 업데이트하십시오. (설명하기 위해 편향은 무시하지만 이 모든 단계는 편향에 적용됨).\n",
    "    <a href=\"http://imgbb.com/\"><img src=\"http://image.ibb.co/hYTTJH/8.jpg\" alt=\"8\" border=\"0\"></a>\n",
    "    * 이제, 제가 말한 적 없는 학습율이 얼마인지 묻고 있을 것입니다. 그것은 학습율을 결정하는 매우 간단한 용어입니다. 빨리 배우는 것과 배우지 않는 것 사이에는 절충이 있습니다. 예를 들어 당신은 지금 파리에 있고 마드리드에 가고 싶어 한다고 합시다. 스피드가 작으면 마드리드에 아주 천천히 갈 수 있고 시간이 너무 오래 걸립니다. 반면에, 만약 당신의 속도가 크다면, 당신은 매우 빨리 갈 수 있지만 아마도 당신은 추락해서 마드리드에 가지 않을 수도 있습니다. 그러므로 우리는 우리의 속도(학습 속도)를 현명하게 선택할 필요가 있습니다.\n",
    "    * 학습율은 선택과 조정이 필요한 하이퍼 파라미터라고도 합니다. 다른 하이퍼 파라미터와 함께 인공신경망에서 더 자세히 설명하겠습니다. \n",
    "  \n",
    "* 나는 이제 당신은 (weight과 bias에서 cost에 이르기까지) Forward propagation와 (cost에서 weight과 bias으로) backwork propagation의 논리를 이해했다고 생각합니다. 또한 경사하강도 배웁니다. 코드를 구현하기 전에 weight와 bias에 따라 cost 함수의 미분 요소를 취하는 방법에 대해 한 가지 더 배울 필요가 있습니다. 그것은 파이썬이나 코딩과는 관련이 없습니다. 그것은 순수한 수학입니다. \n",
    "$$ \\frac{\\partial J}{\\partial w} = \\frac{1}{m}x(  y_head - y)^T$$\n",
    "$$ \\frac{\\partial J}{\\partial b} = \\frac{1}{m} \\sum_{i=1}^m (y_head-y)$$"
   ]
  },
  {
   "cell_type": "code",
   "execution_count": 18,
   "metadata": {
    "_cell_guid": "2b74bb7c-bcbe-4865-ac61-25ced274e7de",
    "_uuid": "088f192f99d2a31f041116c893ec713ef3b4fe43"
   },
   "outputs": [],
   "source": [
    "# backward propagation 시 foward propagation 에서 발견된 y_head 를 사용합니다\n",
    "# 그러므로backward propagation을 쓰지 말고, foward propagation와 backward propagation를 결합하겠습니다\n",
    "def forward_backward_propagation(w,b,x_train,y_train):\n",
    "    # forward propagation\n",
    "    z = np.dot(w.T,x_train) + b\n",
    "    y_head = sigmoid(z)\n",
    "    loss = -y_train*np.log(y_head)-(1-y_train)*np.log(1-y_head)\n",
    "    cost = (np.sum(loss))/x_train.shape[1]      # x_train.shape[1]  is for scaling\n",
    "    # backward propagation\n",
    "    derivative_weight = (np.dot(x_train,((y_head-y_train).T)))/x_train.shape[1] # x_train.shape[1]  is for scaling\n",
    "    derivative_bias = np.sum(y_head-y_train)/x_train.shape[1]                 # x_train.shape[1]  is for scaling\n",
    "    gradients = {\"derivative_weight\": derivative_weight,\"derivative_bias\": derivative_bias}\n",
    "    return cost,gradients"
   ]
  },
  {
   "cell_type": "markdown",
   "metadata": {
    "_cell_guid": "d82dbae8-d11e-4ea8-bbfe-545fee3166b3",
    "_uuid": "9e4d028259897e1565341736d58e46f70ea6b312"
   },
   "source": [
    "* 여기까지 학습한 것\n",
    "    * 파라미터 초기화\n",
    "    * forward propagation 및 cost function 으로 cost 찾기\n",
    "    * parameters (weight and bias) 업데이트. \n",
    "    \n",
    "* 이제 구현해보겠습니다"
   ]
  },
  {
   "cell_type": "code",
   "execution_count": 19,
   "metadata": {
    "_cell_guid": "0940e18d-636d-4503-a2c6-1994024726fe",
    "_uuid": "31299bda686ae2ab157ea18df70e4741e5225345"
   },
   "outputs": [],
   "source": [
    "# Updating(learning) parameters\n",
    "def update(w, b, x_train, y_train, learning_rate,number_of_iterarion):\n",
    "    cost_list = []\n",
    "    cost_list2 = []\n",
    "    index = []\n",
    "    # updating(learning) parameters 는 number_of_iterarion times 입니다\n",
    "    for i in range(number_of_iterarion):\n",
    "        # forward 와 backward propagation 그리고 cost 와 gradients 찾습니다\n",
    "        cost,gradients = forward_backward_propagation(w,b,x_train,y_train)\n",
    "        cost_list.append(cost)\n",
    "        # lets update\n",
    "        w = w - learning_rate * gradients[\"derivative_weight\"]\n",
    "        b = b - learning_rate * gradients[\"derivative_bias\"]\n",
    "        if i % 10 == 0:\n",
    "            cost_list2.append(cost)\n",
    "            index.append(i)\n",
    "            print (\"Cost after iteration %i: %f\" %(i, cost))\n",
    "    # weights 와 bias 를 업데이트 합니다\n",
    "    parameters = {\"weight\": w,\"bias\": b}\n",
    "    plt.plot(index,cost_list2)\n",
    "    plt.xticks(index,rotation='vertical')\n",
    "    plt.xlabel(\"Number of Iterarion\")\n",
    "    plt.ylabel(\"Cost\")\n",
    "    plt.show()\n",
    "    return parameters, gradients, cost_list\n",
    "#parameters, gradients, cost_list = update(w, b, x_train, y_train, learning_rate = 0.009,number_of_iterarion = 200)"
   ]
  },
  {
   "cell_type": "markdown",
   "metadata": {
    "_cell_guid": "202a05c6-2187-40eb-9733-e4da792f04b6",
    "_uuid": "1892ccefd7debe1e9f59b500873b7afded3a4a01"
   },
   "source": [
    "* 여기까지 우리는 우리의 parameters 를 배웁니다. 그건 우리가 data를 적합시킨다는 것을 의미합니다\n",
    "* 예측을 위한 parameter가 있습니다 그러므로 예측해보겠습니다\n",
    "* 예측 단계에서는 x_test 를 입력으로 하고 사용하면서 foward propagation 을 합니다"
   ]
  },
  {
   "cell_type": "code",
   "execution_count": 20,
   "metadata": {
    "_cell_guid": "1fd35d0f-e989-49fa-9bcb-1769d92a5ab4",
    "_uuid": "c9b80f081f49a722818cfebfc01e8b8dc69db9c1"
   },
   "outputs": [],
   "source": [
    " # prediction\n",
    "def predict(w,b,x_test):\n",
    "    # forward propagation를 하기 위해 x_test 가 input 입니다 \n",
    "    z = sigmoid(np.dot(w.T,x_test)+b)\n",
    "    Y_prediction = np.zeros((1,x_test.shape[1]))\n",
    "    # z가 0.5보다 크면 sign 1(y_head=1)이 예측됩니다.\n",
    "    # z가 0.5보다 작으면 sign 0(y_head=0)이 예측됩니다\n",
    "    for i in range(z.shape[1]):\n",
    "        if z[0,i]<= 0.5:\n",
    "            Y_prediction[0,i] = 0\n",
    "        else:\n",
    "            Y_prediction[0,i] = 1\n",
    "\n",
    "    return Y_prediction\n",
    "# predict(parameters[\"weight\"],parameters[\"bias\"],x_test)"
   ]
  },
  {
   "cell_type": "markdown",
   "metadata": {
    "_cell_guid": "ce815319-161b-408b-84fe-4bb1fab92d13",
    "_uuid": "40dbb73794b6b742b01e33038284aa9f11cc698c"
   },
   "source": [
    "* 우리는 예측을 만들었습니다.\n",
    "* 이제 그것들을 모두 합치겠습니다"
   ]
  },
  {
   "cell_type": "code",
   "execution_count": 21,
   "metadata": {
    "_cell_guid": "029e2cd3-125b-4ca4-8b94-25d8164ba1a7",
    "_uuid": "81fb6989ff3860d72462f8212b1d00325272a471"
   },
   "outputs": [
    {
     "name": "stdout",
     "output_type": "stream",
     "text": [
      "Cost after iteration 0: 14.014222\n",
      "Cost after iteration 10: 2.544689\n",
      "Cost after iteration 20: 2.577950\n",
      "Cost after iteration 30: 2.397999\n",
      "Cost after iteration 40: 2.185019\n",
      "Cost after iteration 50: 1.968348\n",
      "Cost after iteration 60: 1.754195\n",
      "Cost after iteration 70: 1.535079\n",
      "Cost after iteration 80: 1.297567\n",
      "Cost after iteration 90: 1.031919\n",
      "Cost after iteration 100: 0.737019\n",
      "Cost after iteration 110: 0.441355\n",
      "Cost after iteration 120: 0.252278\n",
      "Cost after iteration 130: 0.205168\n",
      "Cost after iteration 140: 0.196168\n"
     ]
    },
    {
     "data": {
      "image/png": "[encoded data removed]",
      "text/plain": [
       "<Figure size 432x288 with 1 Axes>"
      ]
     },
     "metadata": {
      "needs_background": "light"
     },
     "output_type": "display_data"
    },
    {
     "name": "stdout",
     "output_type": "stream",
     "text": [
      "train accuracy: 92.816091954023 %\n",
      "test accuracy: 93.54838709677419 %\n"
     ]
    }
   ],
   "source": [
    "def logistic_regression(x_train, y_train, x_test, y_test, learning_rate ,  num_iterations):\n",
    "    # 초기화\n",
    "    dimension =  x_train.shape[0]  #  4096\n",
    "    w,b = initialize_weights_and_bias(dimension)\n",
    "    # learning rate(학습률) 을 바꾸지 않았습니다\n",
    "    \n",
    "    parameters, gradients, cost_list = update(w, b, x_train, y_train, learning_rate,num_iterations)\n",
    "    \n",
    "    y_prediction_test = predict(parameters[\"weight\"],parameters[\"bias\"],x_test)\n",
    "    y_prediction_train = predict(parameters[\"weight\"],parameters[\"bias\"],x_train)\n",
    "\n",
    "    # Print train/test Errors(loss를 출력)\n",
    "    print(\"train accuracy: {} %\".format(100 - np.mean(np.abs(y_prediction_train - y_train)) * 100))\n",
    "    print(\"test accuracy: {} %\".format(100 - np.mean(np.abs(y_prediction_test - y_test)) * 100))\n",
    "    \n",
    "logistic_regression(x_train, y_train, x_test, y_test,learning_rate = 0.01, num_iterations = 150)"
   ]
  },
  {
   "cell_type": "markdown",
   "metadata": {
    "_cell_guid": "6603c5a2-0a1b-4e4a-addd-a89be453e6fd",
    "_uuid": "1da3b972bab3207d2ba77f3d21516296f3e9be02"
   },
   "source": [
    "* 우리는 단순 신경망(논리적 회귀)의 이면에 있는 논리와 구현 방법을 배웁니다.\n",
    "* 논리적인 것들을 배웠기 때문에 로지스틱 회귀 분석을 위해 모든 단계를 손으로 실행하는 것보다 쉬운 sklearn 라이브러리를 사용해서 더욱 더 쉽게 해보겠습니다.\n",
    "\n"
   ]
  },
  {
   "cell_type": "markdown",
   "metadata": {
    "_cell_guid": "119db4ab-f04c-41c0-aef9-728565786e94",
    "_uuid": "ba8b9c960d1735b146fbbad378c90902e7218d59"
   },
   "source": [
    "<a id=\"8\"></a> <br>\n",
    "## Logistic Regression with Sklearn\n",
    "* sklearn library에서는 로지스틱 회귀법을 쉽게 구현할 수 있는 로지스틱 회귀법이 있습니다.\n",
    "* 나는 sklearn에서 로지스틱 회귀의 각 매개변수를 설명하지 않을 것입니다. 그러나 만약 당신이 원한다면 여기서 읽을 수 있습니다 http://scikit-learn.org/stable/modules/generated/sklearn.linear_model.LogisticRegression.html\n",
    "* 정확도는 우리가 발견한 것과 다르다. 로지스틱 회귀 분석 방법은 다른 최적화 매개변수나 정규화처럼 사용하지 않는 다양한 feature을 많이 사용하기 때문입니다.\n",
    "* 로지스틱 회귀의 결론을 내리고 인공신경망으로 계속 진행해봅시다."
   ]
  },
  {
   "cell_type": "code",
   "execution_count": 22,
   "metadata": {
    "_cell_guid": "5bc37200-cd53-4da3-a2ef-c630cf1a2d10",
    "_uuid": "a13b1565f8a5ae234eaa9ed6da288103a3579938"
   },
   "outputs": [
    {
     "name": "stdout",
     "output_type": "stream",
     "text": [
      "test accuracy: 0.967741935483871 \n",
      "train accuracy: 1.0 \n"
     ]
    }
   ],
   "source": [
    "from sklearn import linear_model\n",
    "logreg = linear_model.LogisticRegression(random_state = 42,max_iter= 150)\n",
    "print(\"test accuracy: {} \".format(logreg.fit(x_train.T, y_train.T).score(x_test.T, y_test.T)))\n",
    "print(\"train accuracy: {} \".format(logreg.fit(x_train.T, y_train.T).score(x_train.T, y_train.T)))"
   ]
  },
  {
   "cell_type": "markdown",
   "metadata": {
    "_cell_guid": "b889d43b-15c9-4f31-a4ff-c51c9b5ac077",
    "_uuid": "3379f61c2fb28d4f6e0e7b55fa31da22bab037a9"
   },
   "source": [
    "<a id=\"9\"></a> <br>\n",
    "## Summary\n",
    "<font color='purple'>\n",
    "    \n",
    "우리가 첫번 째 파트에서 한 것들은 다음과 같습니다:\n",
    "\n",
    "* parameters초기화 즉 weight and bias 초기화\n",
    "* Forward propagation\n",
    "* Loss function\n",
    "* Cost function\n",
    "* Backward propagation (gradient descent)\n",
    "* 학습된 parameters, weight 와 bias 를 사용한 예측\n",
    "* Logistic regression with sklearn"
   ]
  },
  {
   "cell_type": "markdown",
   "metadata": {
    "_cell_guid": "a800aa00-7adf-4d10-83c1-3a5221219329",
    "_uuid": "dd0e970ce5194a34ca55b27b6580ef85714e1b92"
   },
   "source": [
    "<a id=\"10\"></a> <br>\n",
    "# Artificial Neural Network (ANN)\n",
    "* 이것은 deep neural network 또는 deep learning 이라고 합니다\n",
    "* **What is neural network:** (신경망이란?) 기본적으로 로지스틱 회귀 분석을 취하여 최소 2회 이상 반복하는 것입니다.\n",
    "* 로지스틱 회귀 분석에서는 입력 및 출력 계층이 있습니다. 그러나 신경망에서는 입력층과 출력층 사이에 적어도 하나의 숨은 층이 존재합니다. 이를 hidden layer 라고도 부릅니다.\n",
    "* **깊이, 내가 얼마나 많은 층을 가져야 하는지를 말하기 위해, 무엇이 깊은것 일까:** 선생님께 서 이 질문을 할 때, 그는 \"깊이\"는 상대적인 용어라고 말했습니다; 물론 그것은 얼마나 많은 숨겨진 층을 가지고 있는지를 의미하는 네트워크의 \"깊이\"를 말합니다. \"너의 수영장은 얼마나 깊니?\"가 12피트일 수도 있고, 2피트일 수도 있습니다. 그럼에도 불구하고, 그것은 여전히 깊이가 있습니다. 그것은 \"깊이\"의 질을 가지고 있다. 32년 전에는 두세 겹의 숨겨진 층을 사용했었습니다. 그것이 당시의 전문 하드웨어의 한계였습니다. 불과 몇 년 전만 해도 20개 층이 꽤 깊은 것으로 여겨졌습니다. 10월에 앤드류 응은 152개의 층이 그가 알고 있는 가장 큰 상업 네트워크 중 하나라고 언급했었습니다. \n",
    "* **Why it is called hidden:** 숨겨진 계층이 입력을 보지 못하기 때문에(train set)\n",
    "\n",
    "* 2층 신경망을 봐보겠습니다: \n",
    "<a href=\"http://ibb.co/eF315x\"><img src=\"http://preview.ibb.co/dajVyH/9.jpg\" alt=\"9\" border=\"0\"></a>\n",
    "* Step by step we will learn this image.\n",
    "    * 보다시피 입력 계층과 출력 계층 사이에는 하나의 숨겨진 계층이 있습니다. 그리고 이 숨겨진 계층은 3개의 노드를 가지고 있습니다. 노드 3의 번호를 선택하는 이유가 궁금하다면 이유는 없고, 나는 오직 개수만 선택합니다. 노드 수는 학습 속도와 같은 하이퍼 파라미터 입니다. 따라서 우리는 인공 신경망의 끝에서 하이퍼 파라미터를 보게 될 것입니다.\n",
    "    * 입력 및 출력은 변하지 않습니다. 그것들은 로지스틱 회귀와 같습니다.\n",
    "    * 이미지에는 당신에게 알려지지 않은 tanh 함수가 있습니다. 그것은 Sigmoid function과 같은 활성화 함수입니다. Tanh 활성화 함수는 hidden units 에 대해 sigmoid보다 더 좋습니다. 왜냐하면 그것의 출력의 평균은 0에 가까워서 다음 레이어에 더 잘 데이터를 배치하기 때문입니다. 또한 tanh 활성화 함수는 우리의 모델 학습을 더 좋게 하는 비선형성을 증가시킵니다.\n",
    "    * 보라색으로도 알 수 있듯이 두 부분이 있습니다. 두 부분 모두 로지스틱 회귀와 같습니다. 유일한 차이점은 활성화 함수, 입력 및 출력입니다.\n",
    "        * logistic regression: input => output\n",
    "        * 2 layer neural network: input => hidden layer => output. 숨겨진 계층은 파트 1의 출력이고 파트 2의 입력이라고 생각할 수 있습니다.\n",
    "* 그뿐입니다. 우리는 2층 신경망에 대한 로지스틱 회귀와 같은 경로를 따를 것입니다.\n",
    "   \n",
    "    \n",
    "    "
   ]
  },
  {
   "cell_type": "markdown",
   "metadata": {
    "_cell_guid": "35b73665-27cb-48a7-abb1-0e0e6bc10ec0",
    "_uuid": "689a4a049579fff0c718bc30639f18e2dcab8ccc"
   },
   "source": [
    "<a id=\"11\"></a> <br>\n",
    "## 2-Layer Neural Network\n",
    "* parameters weights and bias 초기화 그리고 layers 의 size\n",
    "* Forward propagation\n",
    "* Loss function 과 Cost function\n",
    "* Backward propagation\n",
    "* Update Parameters\n",
    "* 학습된 parameters weight 와 bias 를 사용한 예측\n",
    "* Create Model"
   ]
  },
  {
   "cell_type": "markdown",
   "metadata": {
    "_cell_guid": "bbfe8df0-bf38-4842-aec1-c04417a99420",
    "_uuid": "0a5e286cf360d579eb6e5d5f220dd1a17c458039"
   },
   "source": [
    "<a id=\"12\"></a> <br>\n",
    "## Size of layers and initializing parameters weights and bias\n",
    "\n",
    "\n",
    "* 샘플이 348개인 x_train의 경우 \n",
    "\n",
    "$x^{(348)}$: $$z^{[1] (348)} =  W^{[1]} x^{(348)} + b^{[1] (348)}$$ \n",
    "$$a^{[1] (348)} = \\tanh(z^{[1] (348)})$$\n",
    "$$z^{[2] (348)} = W^{[2]} a^{[1] (348)} + b^{[2] (348)}$$\n",
    "$$\\hat{y}^{(348)} = a^{[2] (348)} = \\sigma(z^{ [2] (348)})$$\n",
    "\n",
    "\n",
    "* * 로지스틱 회귀 분석에서는 weight 0.01과 bias 0을 초기화 했습니다. 이때 우리는 무작위로 weight를 초기화합니다. 왜냐하면 우리가 parameter 0을 초기화하면 첫 번째 숨겨진 층의 각 뉴런은 동일한 계산을 수행할 것이기 때문입니다. 따라서, 여러 차례 반복적으로 경사 하강 시킨 후에도 층에 있는 각 뉴런은 다른 뉴런과 같은 것들을 계산하게 될 것입니다. 따라서 무작위로 초기화합니다. 또한 초기 weight는 작을 것입니다. 초기에 크기가 매우 크면 이는 tanh의 입력을 매우 크게 하여 경사가 0에 가깝게 됩니다. 즉, 최적화 알고리즘이 느릴 것입니다.\n",
    "\n",
    "* Bias 처음부터 0이 될 수 있습니다"
   ]
  },
  {
   "cell_type": "code",
   "execution_count": 23,
   "metadata": {
    "_cell_guid": "089fd577-95a0-4218-9b53-72bf1c0ab206",
    "_uuid": "922670a74f6999885759399ebea8b10692796a29"
   },
   "outputs": [],
   "source": [
    "# parameters weights and bias 초기화 그리고 layers 의 size\n",
    "def initialize_parameters_and_layer_sizes_NN(x_train, y_train):\n",
    "    parameters = {\"weight1\": np.random.randn(3,x_train.shape[0]) * 0.1,\n",
    "                  \"bias1\": np.zeros((3,1)),\n",
    "                  \"weight2\": np.random.randn(y_train.shape[0],3) * 0.1,\n",
    "                  \"bias2\": np.zeros((y_train.shape[0],1))}\n",
    "    return parameters"
   ]
  },
  {
   "cell_type": "markdown",
   "metadata": {
    "_cell_guid": "65832cdf-7ee8-447b-a068-48ac2e46b49f",
    "_uuid": "66147bbafbe25dac498f3963ea8419126f624ce9"
   },
   "source": [
    "<a id=\"13\"></a> <br>\n",
    "## Forward propagation\n",
    "* Forward propagation 는 로지스틱 회귀 분석과 거의 같습니다.\n",
    "* 단 한가지 차이점은 tanh 함수를 사용하고 모든 과정을 두 번 만든다는 것입니다.\n",
    "* 또한 numpy 는 tanh function을 가지고 있습니다. 따라서 우리는 그것을 별도로 시행할 필요가 없습니다"
   ]
  },
  {
   "cell_type": "code",
   "execution_count": 24,
   "metadata": {
    "_cell_guid": "d64d6b90-7f14-453f-a401-4119504496e3",
    "_uuid": "41e1e2f1c7afff027ba0a9f9b2fdcbe312e9a194"
   },
   "outputs": [],
   "source": [
    "\n",
    "def forward_propagation_NN(x_train, parameters):\n",
    "\n",
    "    Z1 = np.dot(parameters[\"weight1\"],x_train) +parameters[\"bias1\"]\n",
    "    A1 = np.tanh(Z1)\n",
    "    Z2 = np.dot(parameters[\"weight2\"],A1) + parameters[\"bias2\"]\n",
    "    A2 = sigmoid(Z2)\n",
    "\n",
    "    cache = {\"Z1\": Z1,\n",
    "             \"A1\": A1,\n",
    "             \"Z2\": Z2,\n",
    "             \"A2\": A2}\n",
    "    \n",
    "    return A2, cache\n"
   ]
  },
  {
   "cell_type": "markdown",
   "metadata": {
    "_cell_guid": "30a0abc9-7ee0-4093-afd5-ae9d5b1fcd5e",
    "_uuid": "ee7a42ee207e222eed5c24b1bfbf2d6ce0cdec37"
   },
   "source": [
    "<a id=\"14\"></a> <br>\n",
    "## Loss function and Cost function\n",
    "* 손실 및 비용 함수는 로지스틱 회귀 분석과 동일합니다\n",
    "* Cross entropy function (교차 엔트로피 함수)\n",
    "<a href=\"https://imgbb.com/\"><img src=\"https://image.ibb.co/nyR9LU/as.jpg\" alt=\"as\" border=\"0\"></a><br />"
   ]
  },
  {
   "cell_type": "code",
   "execution_count": 25,
   "metadata": {
    "_cell_guid": "24143d72-bc62-4f2d-b0cf-4f67a4016299",
    "_uuid": "b55887b28cffc8083a76af45d25957d4f3e9f6fa"
   },
   "outputs": [],
   "source": [
    "# Compute cost\n",
    "def compute_cost_NN(A2, Y, parameters):\n",
    "    logprobs = np.multiply(np.log(A2),Y)\n",
    "    cost = -np.sum(logprobs)/Y.shape[1]\n",
    "    return cost\n"
   ]
  },
  {
   "cell_type": "markdown",
   "metadata": {
    "_cell_guid": "39839772-976a-4e53-a2e0-07aa76c9bd98",
    "_uuid": "43767f9271e2b2b6e0c3560e414f3c0c596ffe2f"
   },
   "source": [
    "<a id=\"15\"></a> <br>\n",
    "## Backward propagation\n",
    "* 알다시피 backward propagation 는 미분을 의미합니다"
   ]
  },
  {
   "cell_type": "code",
   "execution_count": 26,
   "metadata": {
    "_cell_guid": "2fcfd3c4-f935-4272-a284-c2dbc2c35afb",
    "_uuid": "6bf7bce2e4413ecdc16ea778008eee4072738aab"
   },
   "outputs": [],
   "source": [
    "# Backward Propagation\n",
    "def backward_propagation_NN(parameters, cache, X, Y):\n",
    "\n",
    "    dZ2 = cache[\"A2\"]-Y\n",
    "    dW2 = np.dot(dZ2,cache[\"A1\"].T)/X.shape[1]\n",
    "    db2 = np.sum(dZ2,axis =1,keepdims=True)/X.shape[1]\n",
    "    dZ1 = np.dot(parameters[\"weight2\"].T,dZ2)*(1 - np.power(cache[\"A1\"], 2))\n",
    "    dW1 = np.dot(dZ1,X.T)/X.shape[1]\n",
    "    db1 = np.sum(dZ1,axis =1,keepdims=True)/X.shape[1]\n",
    "    grads = {\"dweight1\": dW1,\n",
    "             \"dbias1\": db1,\n",
    "             \"dweight2\": dW2,\n",
    "             \"dbias2\": db2}\n",
    "    return grads"
   ]
  },
  {
   "cell_type": "markdown",
   "metadata": {
    "_cell_guid": "af195fda-5649-4e6d-830e-72123f2726a8",
    "_uuid": "b1996782dc44fda7993407c9b5efee5d4fef46e4"
   },
   "source": [
    "<a id=\"16\"></a> <br>\n",
    "## Update Parameters \n",
    "* parameters 업데이트도 로지스틱 회귀 분석과 동일합니다\n",
    "* 우리는 로지스틱 회귀 분석으로 많은 작업을 수행했습니다"
   ]
  },
  {
   "cell_type": "code",
   "execution_count": 27,
   "metadata": {
    "_cell_guid": "d9ae95d4-1d11-4293-822d-e1d5f0c16d1e",
    "_uuid": "facf2b475cb82e14dcc6be56b57fe2c3ad0b1a8f"
   },
   "outputs": [],
   "source": [
    "# update parameters\n",
    "def update_parameters_NN(parameters, grads, learning_rate = 0.01):\n",
    "    parameters = {\"weight1\": parameters[\"weight1\"]-learning_rate*grads[\"dweight1\"],\n",
    "                  \"bias1\": parameters[\"bias1\"]-learning_rate*grads[\"dbias1\"],\n",
    "                  \"weight2\": parameters[\"weight2\"]-learning_rate*grads[\"dweight2\"],\n",
    "                  \"bias2\": parameters[\"bias2\"]-learning_rate*grads[\"dbias2\"]}\n",
    "    \n",
    "    return parameters"
   ]
  },
  {
   "cell_type": "markdown",
   "metadata": {
    "_cell_guid": "ac416480-ec9c-45b4-ac9d-1caeded9ba90",
    "_uuid": "9c471502563017fabb991494359091215e4ad583"
   },
   "source": [
    "<a id=\"17\"></a> <br>\n",
    "## Prediction with learnt parameters weight and bias\n",
    "* 로지스틱 회귀 분석과 같은 예측 방법을 쓰겠습니다"
   ]
  },
  {
   "cell_type": "code",
   "execution_count": 28,
   "metadata": {
    "_cell_guid": "96004eb5-d6ca-41ab-a577-70fb0628a2f4",
    "_uuid": "53c00c4430c6fcc3298dde8de804cab71884caa5"
   },
   "outputs": [],
   "source": [
    "# prediction\n",
    "def predict_NN(parameters,x_test):\n",
    "    # x_test is a input for forward propagation\n",
    "    A2, cache = forward_propagation_NN(x_test,parameters)\n",
    "    Y_prediction = np.zeros((1,x_test.shape[1]))\n",
    "    # if z is bigger than 0.5, our prediction is sign one (y_head=1),\n",
    "    # if z is smaller than 0.5, our prediction is sign zero (y_head=0),\n",
    "    for i in range(A2.shape[1]):\n",
    "        if A2[0,i]<= 0.5:\n",
    "            Y_prediction[0,i] = 0\n",
    "        else:\n",
    "            Y_prediction[0,i] = 1\n",
    "\n",
    "    return Y_prediction"
   ]
  },
  {
   "cell_type": "markdown",
   "metadata": {
    "_cell_guid": "d0df9e13-300b-4d5e-b8ec-f702ed0e06af",
    "_uuid": "94202fbc047d59fa5c8b81ba02962f1f3cc56d8f"
   },
   "source": [
    "<a id=\"18\"></a> <br>\n",
    "## Create Model\n",
    "* 그것들을 모두 합쳐보겠습니다"
   ]
  },
  {
   "cell_type": "code",
   "execution_count": 29,
   "metadata": {
    "_cell_guid": "b66f3c28-0f71-4176-8a6b-35b98b0db936",
    "_uuid": "9babf239f800bedc9864c6a75677985d57f1cc78"
   },
   "outputs": [
    {
     "name": "stdout",
     "output_type": "stream",
     "text": [
      "Cost after iteration 0: 0.368301\n",
      "Cost after iteration 100: 0.329046\n",
      "Cost after iteration 200: 0.286103\n",
      "Cost after iteration 300: 0.227233\n",
      "Cost after iteration 400: 0.172924\n",
      "Cost after iteration 500: 0.133718\n",
      "Cost after iteration 600: 0.107151\n",
      "Cost after iteration 700: 0.088694\n",
      "Cost after iteration 800: 0.075215\n",
      "Cost after iteration 900: 0.064847\n",
      "Cost after iteration 1000: 0.056493\n",
      "Cost after iteration 1100: 0.049548\n",
      "Cost after iteration 1200: 0.043699\n",
      "Cost after iteration 1300: 0.038764\n",
      "Cost after iteration 1400: 0.034601\n",
      "Cost after iteration 1500: 0.031079\n",
      "Cost after iteration 1600: 0.028085\n",
      "Cost after iteration 1700: 0.025523\n",
      "Cost after iteration 1800: 0.023315\n",
      "Cost after iteration 1900: 0.021399\n",
      "Cost after iteration 2000: 0.019726\n",
      "Cost after iteration 2100: 0.018257\n",
      "Cost after iteration 2200: 0.016961\n",
      "Cost after iteration 2300: 0.015811\n",
      "Cost after iteration 2400: 0.014787\n"
     ]
    },
    {
     "data": {
      "image/png": "[encoded data removed]",
      "text/plain": [
       "<Figure size 432x288 with 1 Axes>"
      ]
     },
     "metadata": {
      "needs_background": "light"
     },
     "output_type": "display_data"
    },
    {
     "name": "stdout",
     "output_type": "stream",
     "text": [
      "train accuracy: 100.0 %\n",
      "test accuracy: 95.16129032258064 %\n"
     ]
    }
   ],
   "source": [
    "# 2 - Layer neural network\n",
    "def two_layer_neural_network(x_train, y_train,x_test,y_test, num_iterations):\n",
    "    cost_list = []\n",
    "    index_list = []\n",
    "    #initialize parameters and layer sizes\n",
    "    parameters = initialize_parameters_and_layer_sizes_NN(x_train, y_train)\n",
    "\n",
    "    for i in range(0, num_iterations):\n",
    "         # forward propagation\n",
    "        A2, cache = forward_propagation_NN(x_train,parameters)\n",
    "        # compute cost\n",
    "        cost = compute_cost_NN(A2, y_train, parameters)\n",
    "         # backward propagation\n",
    "        grads = backward_propagation_NN(parameters, cache, x_train, y_train)\n",
    "         # update parameters\n",
    "        parameters = update_parameters_NN(parameters, grads)\n",
    "        \n",
    "        if i % 100 == 0:\n",
    "            cost_list.append(cost)\n",
    "            index_list.append(i)\n",
    "            print (\"Cost after iteration %i: %f\" %(i, cost))\n",
    "    plt.plot(index_list,cost_list)\n",
    "    plt.xticks(index_list,rotation='vertical')\n",
    "    plt.xlabel(\"Number of Iterarion\")\n",
    "    plt.ylabel(\"Cost\")\n",
    "    plt.show()\n",
    "    \n",
    "    # predict\n",
    "    y_prediction_test = predict_NN(parameters,x_test)\n",
    "    y_prediction_train = predict_NN(parameters,x_train)\n",
    "\n",
    "    # train/test Error들을 출력합니다\n",
    "    print(\"train accuracy: {} %\".format(100 - np.mean(np.abs(y_prediction_train - y_train)) * 100))\n",
    "    print(\"test accuracy: {} %\".format(100 - np.mean(np.abs(y_prediction_test - y_test)) * 100))\n",
    "    return parameters\n",
    "\n",
    "parameters = two_layer_neural_network(x_train, y_train,x_test,y_test, num_iterations=2500)"
   ]
  },
  {
   "cell_type": "markdown",
   "metadata": {
    "_cell_guid": "04d3b704-2fd4-410b-ad90-a5a0aedd4b7d",
    "_uuid": "62bb69efcf883ba22581dfc8d4f2e0eaa2d99ee3"
   },
   "source": [
    "<font color='purple'>\n",
    "여기까지 우리는 2층 신경망을 만들고 구현하는 방법을 배웠습니다.\n",
    "* parameters weights and bias 초기화 그리고 layers 의 size\n",
    "* Forward propagation\n",
    "* Loss function 과 Cost function\n",
    "* Backward propagation\n",
    "* Update Parameters\n",
    "* 학습된 parameters weight 와 bias 를 사용한 예측\n",
    "* Create Model\n",
    "\n",
    "<br> 이제 keras 로 L층 신경망을 구현하는 방법을 배워보겠습니다"
   ]
  },
  {
   "cell_type": "markdown",
   "metadata": {
    "_cell_guid": "c054ed2a-9dd9-498c-9be6-6e9b16ff5913",
    "_uuid": "aa2f896b72236e09687afc3c613a4fc801b16552"
   },
   "source": [
    "<a id=\"19\"></a> <br>\n",
    "# L Layer Neural Network\n",
    "* **hidden layer가 증가하면 어떻게 될까요?:** 이전 layer들은 간단한 feature들을 감지할 수 있습니다.\n",
    "* 간단한 feature를 후기 신경망 층에서 함께 모델화 하여 더욱 복잡한 function을 학습할 수 있습니다. 예를들어 우리의 간단한 예를 봅시다.(sign1)\n",
    "<a href=\"http://ibb.co/dNgDJH\"><img src=\"http://preview.ibb.co/mpD4Qx/10.jpg\" alt=\"10\" border=\"0\"></a>\n",
    "* 예를 들어, 첫 번째 숨겨진 층은 가장자리나 선과 같은 기본 모양을 학습합니다. 층수가 증가하면, 층들은 볼록한 모양이나 집게손가락과 같은 특징과 같은 더 복잡한 것들을 배우기 시작합니다.\n",
    "* 모델을 생성해 봅시다\n",
    "    * 학습 속도, 반복 횟수, 숨겨진 계층 수, 숨겨진 단위 수, 활성화 함수 유형 등 우리가 선택해야 하는 일부 하이퍼 파라미터가 있습니다(earning rate, number of iterations, number of hidden layer, number of hidden units, type of activation functions)\n",
    "    * 이러한 하이퍼 파라미터는 딥러닝 세계에서 많은 시간을 보낸다면 연속적으로 선택될 수 있습니다\n",
    "    * 이 튜토리얼에서 우리 모델은 각각 8개 노드와 4개의 노드를 가진 2개의 숨겨진 계층을 가질 것입니다. 숨겨진 계층과 노드의 수가 증가하면 시간이 너무 많이 걸리기 때문입니다.\n",
    "    * 활성화 기능으로 각각 relu(첫 번째 숨김 계층), relu(두 번째 숨김 계층), sigmoid(출력 계층)를 사용합니다.\n",
    "    * 반복 횟수는 100회 입니다.(iteration )\n",
    "* 우리의 방법은 이전 부분과 동일하지만, 당신이 딥러닝의 이면에 있는 논리를 배우면, 우리는 우리의 일을 쉽게 할 수 있고 더 깊은 신경망을 위해 케라스 라이브러리를 사용할 수 있습니다.\n",
    "* 먼저 우리의 x_train, x_test, y_train and y_test 들을 reshape 합니다\n",
    "\n",
    "    \n",
    "    "
   ]
  },
  {
   "cell_type": "code",
   "execution_count": 30,
   "metadata": {
    "_cell_guid": "631a05c4-e362-4fa0-9048-21c599f55344",
    "_uuid": "0a978924a68d423de4babe73c15412ad938c1858"
   },
   "outputs": [],
   "source": [
    "# reshaping\n",
    "x_train, x_test, y_train, y_test = x_train.T, x_test.T, y_train.T, y_test.T"
   ]
  },
  {
   "cell_type": "markdown",
   "metadata": {
    "_cell_guid": "e17b5a34-00dc-49a8-b7ac-a2bd3a753f78",
    "_uuid": "5a78a5570bc50180a02190dee46180f19eb165e1"
   },
   "source": [
    "<a id=\"22\"></a> <br>\n",
    "## Implementing with keras library\n",
    "케라스 라이브러리의 몇 가지 parameter를 살펴보십시오.:\n",
    "* units: output dimensions of node\n",
    "* kernel_initializer: to initialize weights\n",
    "* activation: activation function, 여기서 우리는 relu 를 사용합니다\n",
    "* input_dim: 이미지의 픽셀 수인 입력 치수(4096 px)\n",
    "* optimizer: 우리는 adam optimizer 를 사용합니다\n",
    "    * Adam 은 신경망 훈련을 위한 가장 효과적인 최적화 알고리즘 중 하나입니다.\n",
    "    * Adam의 몇 가지 장점은 상대적으로 낮은 메모리 요구 사항과 일반적으로 하이퍼 파라미터의 조정이 거의 없더라도 잘 작동한다는 것입니다.\n",
    "* loss: Cost function 과 같습니다. \n",
    "$$J = - \\frac{1}{m} \\sum\\limits_{i = 0}^{m} \\large\\left(\\small y^{(i)}\\log\\left(a^{[2] (i)}\\right) + (1-y^{(i)})\\log\\left(1- a^{[2] (i)}\\right)  \\large  \\right) \\small \\tag{6}$$\n",
    "* metrics: it is accuracy.\n",
    "* cross_val_score: 교차검증을 사용합니다. 차 검증을 모를 경우 기계 학습 튜토리얼에서 확인하십시오. https://www.kaggle.com/kanncaa1/machine-learning-tutorial-for-beginners\n",
    "* epochs: number of iteration"
   ]
  },
  {
   "cell_type": "code",
   "execution_count": 31,
   "metadata": {
    "_cell_guid": "8870c45b-b0fe-4050-a8af-41498a417ed5",
    "_uuid": "9361c3183a40fa0080055b7d5c1002aef68b4d77"
   },
   "outputs": [
    {
     "name": "stderr",
     "output_type": "stream",
     "text": [
      "Using TensorFlow backend.\n"
     ]
    },
    {
     "name": "stdout",
     "output_type": "stream",
     "text": [
      "WARNING:tensorflow:From C:\\ProgramData\\Anaconda3\\lib\\site-packages\\tensorflow_core\\python\\ops\\resource_variable_ops.py:1630: calling BaseResourceVariable.__init__ (from tensorflow.python.ops.resource_variable_ops) with constraint is deprecated and will be removed in a future version.\n",
      "Instructions for updating:\n",
      "If using Keras pass *_constraint arguments to layers.\n",
      "WARNING:tensorflow:From C:\\ProgramData\\Anaconda3\\lib\\site-packages\\tensorflow_core\\python\\ops\\nn_impl.py:183: where (from tensorflow.python.ops.array_ops) is deprecated and will be removed in a future version.\n",
      "Instructions for updating:\n",
      "Use tf.where in 2.0, which has the same broadcast rule as np.where\n",
      "WARNING:tensorflow:From C:\\ProgramData\\Anaconda3\\lib\\site-packages\\keras\\backend\\tensorflow_backend.py:422: The name tf.global_variables is deprecated. Please use tf.compat.v1.global_variables instead.\n",
      "\n",
      "Epoch 1/100\n",
      "232/232 [==============================] - 0s 1ms/step - loss: 0.6933 - accuracy: 0.4526\n",
      "Epoch 2/100\n",
      "232/232 [==============================] - 0s 121us/step - loss: 0.6927 - accuracy: 0.5431\n",
      "Epoch 3/100\n",
      "232/232 [==============================] - 0s 108us/step - loss: 0.6924 - accuracy: 0.5431\n",
      "Epoch 4/100\n",
      "232/232 [==============================] - 0s 116us/step - loss: 0.6918 - accuracy: 0.5474\n",
      "Epoch 5/100\n",
      "232/232 [==============================] - 0s 138us/step - loss: 0.6905 - accuracy: 0.5603\n",
      "Epoch 6/100\n",
      "232/232 [==============================] - 0s 121us/step - loss: 0.6887 - accuracy: 0.8147\n",
      "Epoch 7/100\n",
      "232/232 [==============================] - 0s 116us/step - loss: 0.6866 - accuracy: 0.6983\n",
      "Epoch 8/100\n",
      "232/232 [==============================] - 0s 112us/step - loss: 0.6814 - accuracy: 0.7543\n",
      "Epoch 9/100\n",
      "232/232 [==============================] - 0s 121us/step - loss: 0.6746 - accuracy: 0.8405\n",
      "Epoch 10/100\n",
      "232/232 [==============================] - 0s 134us/step - loss: 0.6667 - accuracy: 0.8405\n",
      "Epoch 11/100\n",
      "232/232 [==============================] - 0s 116us/step - loss: 0.6574 - accuracy: 0.8017\n",
      "Epoch 12/100\n",
      "232/232 [==============================] - 0s 112us/step - loss: 0.6445 - accuracy: 0.8276\n",
      "Epoch 13/100\n",
      "232/232 [==============================] - 0s 125us/step - loss: 0.6365 - accuracy: 0.6509\n",
      "Epoch 14/100\n",
      "232/232 [==============================] - 0s 129us/step - loss: 0.6232 - accuracy: 0.7802\n",
      "Epoch 15/100\n",
      "232/232 [==============================] - 0s 138us/step - loss: 0.6019 - accuracy: 0.8233\n",
      "Epoch 16/100\n",
      "232/232 [==============================] - 0s 142us/step - loss: 0.5869 - accuracy: 0.7974\n",
      "Epoch 17/100\n",
      "232/232 [==============================] - 0s 121us/step - loss: 0.5702 - accuracy: 0.8448\n",
      "Epoch 18/100\n",
      "232/232 [==============================] - 0s 116us/step - loss: 0.5538 - accuracy: 0.7759\n",
      "Epoch 19/100\n",
      "232/232 [==============================] - 0s 116us/step - loss: 0.5494 - accuracy: 0.8578\n",
      "Epoch 20/100\n",
      "232/232 [==============================] - 0s 121us/step - loss: 0.5230 - accuracy: 0.8664\n",
      "Epoch 21/100\n",
      "232/232 [==============================] - 0s 121us/step - loss: 0.5093 - accuracy: 0.8750\n",
      "Epoch 22/100\n",
      "232/232 [==============================] - 0s 121us/step - loss: 0.5008 - accuracy: 0.9009\n",
      "Epoch 23/100\n",
      "232/232 [==============================] - 0s 121us/step - loss: 0.4829 - accuracy: 0.8750\n",
      "Epoch 24/100\n",
      "232/232 [==============================] - 0s 146us/step - loss: 0.4727 - accuracy: 0.8966\n",
      "Epoch 25/100\n",
      "232/232 [==============================] - 0s 138us/step - loss: 0.4603 - accuracy: 0.8707\n",
      "Epoch 26/100\n",
      "232/232 [==============================] - 0s 151us/step - loss: 0.4660 - accuracy: 0.8879\n",
      "Epoch 27/100\n",
      "232/232 [==============================] - 0s 121us/step - loss: 0.4420 - accuracy: 0.8922\n",
      "Epoch 28/100\n",
      "232/232 [==============================] - 0s 121us/step - loss: 0.4522 - accuracy: 0.9310\n",
      "Epoch 29/100\n",
      "232/232 [==============================] - 0s 121us/step - loss: 0.4400 - accuracy: 0.9267\n",
      "Epoch 30/100\n",
      "232/232 [==============================] - 0s 121us/step - loss: 0.4172 - accuracy: 0.9181\n",
      "Epoch 31/100\n",
      "232/232 [==============================] - 0s 121us/step - loss: 0.4096 - accuracy: 0.9267\n",
      "Epoch 32/100\n",
      "232/232 [==============================] - 0s 112us/step - loss: 0.4118 - accuracy: 0.9052\n",
      "Epoch 33/100\n",
      "232/232 [==============================] - 0s 121us/step - loss: 0.3969 - accuracy: 0.9138\n",
      "Epoch 34/100\n",
      "232/232 [==============================] - 0s 112us/step - loss: 0.3878 - accuracy: 0.9397\n",
      "Epoch 35/100\n",
      "232/232 [==============================] - 0s 121us/step - loss: 0.3854 - accuracy: 0.9440\n",
      "Epoch 36/100\n",
      "232/232 [==============================] - 0s 146us/step - loss: 0.3764 - accuracy: 0.9440\n",
      "Epoch 37/100\n",
      "232/232 [==============================] - 0s 125us/step - loss: 0.3747 - accuracy: 0.9353\n",
      "Epoch 38/100\n",
      "232/232 [==============================] - 0s 116us/step - loss: 0.3680 - accuracy: 0.9224\n",
      "Epoch 39/100\n",
      "232/232 [==============================] - 0s 125us/step - loss: 0.3676 - accuracy: 0.9440\n",
      "Epoch 40/100\n",
      "232/232 [==============================] - 0s 121us/step - loss: 0.3761 - accuracy: 0.8966\n",
      "Epoch 41/100\n",
      "232/232 [==============================] - 0s 121us/step - loss: 0.3635 - accuracy: 0.9267\n",
      "Epoch 42/100\n",
      "232/232 [==============================] - 0s 129us/step - loss: 0.3648 - accuracy: 0.9181\n",
      "Epoch 43/100\n",
      "232/232 [==============================] - 0s 125us/step - loss: 0.3526 - accuracy: 0.9267\n",
      "Epoch 44/100\n",
      "232/232 [==============================] - 0s 125us/step - loss: 0.3382 - accuracy: 0.9440\n",
      "Epoch 45/100\n",
      "232/232 [==============================] - 0s 159us/step - loss: 0.3234 - accuracy: 0.9483\n",
      "Epoch 46/100\n",
      "232/232 [==============================] - 0s 164us/step - loss: 0.3226 - accuracy: 0.9526\n",
      "Epoch 47/100\n",
      "232/232 [==============================] - 0s 151us/step - loss: 0.3131 - accuracy: 0.9526\n",
      "Epoch 48/100\n",
      "232/232 [==============================] - 0s 164us/step - loss: 0.3121 - accuracy: 0.9569\n",
      "Epoch 49/100\n",
      "232/232 [==============================] - 0s 125us/step - loss: 0.3059 - accuracy: 0.9526\n",
      "Epoch 50/100\n",
      "232/232 [==============================] - 0s 125us/step - loss: 0.3102 - accuracy: 0.9397\n",
      "Epoch 51/100\n",
      "232/232 [==============================] - 0s 142us/step - loss: 0.3183 - accuracy: 0.9397\n",
      "Epoch 52/100\n",
      "232/232 [==============================] - 0s 155us/step - loss: 0.3023 - accuracy: 0.9397\n",
      "Epoch 53/100\n",
      "232/232 [==============================] - 0s 146us/step - loss: 0.2870 - accuracy: 0.9655\n",
      "Epoch 54/100\n",
      "232/232 [==============================] - 0s 142us/step - loss: 0.2925 - accuracy: 0.9612\n",
      "Epoch 55/100\n",
      "232/232 [==============================] - 0s 125us/step - loss: 0.2867 - accuracy: 0.9440\n",
      "Epoch 56/100\n",
      "232/232 [==============================] - 0s 125us/step - loss: 0.2966 - accuracy: 0.9397\n",
      "Epoch 57/100\n",
      "232/232 [==============================] - 0s 116us/step - loss: 0.2851 - accuracy: 0.9440\n",
      "Epoch 58/100\n",
      "232/232 [==============================] - 0s 121us/step - loss: 0.2695 - accuracy: 0.9440\n",
      "Epoch 59/100\n",
      "232/232 [==============================] - 0s 116us/step - loss: 0.2592 - accuracy: 0.9698\n",
      "Epoch 60/100\n",
      "232/232 [==============================] - 0s 125us/step - loss: 0.2653 - accuracy: 0.9569\n",
      "Epoch 61/100\n",
      "232/232 [==============================] - 0s 151us/step - loss: 0.2887 - accuracy: 0.9440\n",
      "Epoch 62/100\n",
      "232/232 [==============================] - 0s 146us/step - loss: 0.3006 - accuracy: 0.9267\n",
      "Epoch 63/100\n",
      "232/232 [==============================] - 0s 138us/step - loss: 0.2679 - accuracy: 0.9569\n",
      "Epoch 64/100\n",
      "232/232 [==============================] - 0s 116us/step - loss: 0.2413 - accuracy: 0.9655\n",
      "Epoch 65/100\n",
      "232/232 [==============================] - 0s 125us/step - loss: 0.2368 - accuracy: 0.9741\n",
      "Epoch 66/100\n",
      "232/232 [==============================] - 0s 121us/step - loss: 0.2308 - accuracy: 0.9741\n",
      "Epoch 67/100\n",
      "232/232 [==============================] - 0s 125us/step - loss: 0.2258 - accuracy: 0.9741\n",
      "Epoch 68/100\n",
      "232/232 [==============================] - 0s 129us/step - loss: 0.2222 - accuracy: 0.9741\n",
      "Epoch 69/100\n",
      "232/232 [==============================] - 0s 112us/step - loss: 0.2194 - accuracy: 0.9741\n",
      "Epoch 70/100\n",
      "232/232 [==============================] - 0s 121us/step - loss: 0.2210 - accuracy: 0.9784\n",
      "Epoch 71/100\n"
     ]
    },
    {
     "name": "stdout",
     "output_type": "stream",
     "text": [
      "232/232 [==============================] - 0s 129us/step - loss: 0.2163 - accuracy: 0.9698\n",
      "Epoch 72/100\n",
      "232/232 [==============================] - 0s 146us/step - loss: 0.2259 - accuracy: 0.9655\n",
      "Epoch 73/100\n",
      "232/232 [==============================] - 0s 138us/step - loss: 0.2239 - accuracy: 0.9569\n",
      "Epoch 74/100\n",
      "232/232 [==============================] - 0s 134us/step - loss: 0.2030 - accuracy: 0.9784\n",
      "Epoch 75/100\n",
      "232/232 [==============================] - 0s 121us/step - loss: 0.2025 - accuracy: 0.9741\n",
      "Epoch 76/100\n",
      "232/232 [==============================] - 0s 121us/step - loss: 0.2014 - accuracy: 0.9655\n",
      "Epoch 77/100\n",
      "232/232 [==============================] - 0s 125us/step - loss: 0.1949 - accuracy: 0.9741\n",
      "Epoch 78/100\n",
      "232/232 [==============================] - 0s 121us/step - loss: 0.1872 - accuracy: 0.9741\n",
      "Epoch 79/100\n",
      "232/232 [==============================] - 0s 125us/step - loss: 0.1871 - accuracy: 0.9741\n",
      "Epoch 80/100\n",
      "232/232 [==============================] - 0s 121us/step - loss: 0.1812 - accuracy: 0.9784\n",
      "Epoch 81/100\n",
      "232/232 [==============================] - 0s 116us/step - loss: 0.1789 - accuracy: 0.9741\n",
      "Epoch 82/100\n",
      "232/232 [==============================] - 0s 116us/step - loss: 0.1803 - accuracy: 0.9698\n",
      "Epoch 83/100\n",
      "232/232 [==============================] - 0s 134us/step - loss: 0.1773 - accuracy: 0.9784\n",
      "Epoch 84/100\n",
      "232/232 [==============================] - 0s 151us/step - loss: 0.1939 - accuracy: 0.9655\n",
      "Epoch 85/100\n",
      "232/232 [==============================] - 0s 134us/step - loss: 0.1722 - accuracy: 0.9741\n",
      "Epoch 86/100\n",
      "232/232 [==============================] - 0s 129us/step - loss: 0.1774 - accuracy: 0.9655\n",
      "Epoch 87/100\n",
      "232/232 [==============================] - 0s 138us/step - loss: 0.1690 - accuracy: 0.9741\n",
      "Epoch 88/100\n",
      "232/232 [==============================] - 0s 116us/step - loss: 0.1586 - accuracy: 0.9828\n",
      "Epoch 89/100\n",
      "232/232 [==============================] - 0s 116us/step - loss: 0.1589 - accuracy: 0.9828\n",
      "Epoch 90/100\n",
      "232/232 [==============================] - 0s 116us/step - loss: 0.1755 - accuracy: 0.9741\n",
      "Epoch 91/100\n",
      "232/232 [==============================] - 0s 121us/step - loss: 0.1659 - accuracy: 0.9741\n",
      "Epoch 92/100\n",
      "232/232 [==============================] - 0s 116us/step - loss: 0.1496 - accuracy: 0.9914\n",
      "Epoch 93/100\n",
      "232/232 [==============================] - 0s 121us/step - loss: 0.1483 - accuracy: 0.9828\n",
      "Epoch 94/100\n",
      "232/232 [==============================] - 0s 116us/step - loss: 0.1608 - accuracy: 0.9655\n",
      "Epoch 95/100\n",
      "232/232 [==============================] - 0s 146us/step - loss: 0.1395 - accuracy: 0.9784\n",
      "Epoch 96/100\n",
      "232/232 [==============================] - 0s 129us/step - loss: 0.1360 - accuracy: 0.9828\n",
      "Epoch 97/100\n",
      "232/232 [==============================] - 0s 129us/step - loss: 0.1389 - accuracy: 0.9784\n",
      "Epoch 98/100\n",
      "232/232 [==============================] - 0s 138us/step - loss: 0.1341 - accuracy: 0.9784\n",
      "Epoch 99/100\n",
      "232/232 [==============================] - 0s 138us/step - loss: 0.1346 - accuracy: 0.9784\n",
      "Epoch 100/100\n",
      "232/232 [==============================] - 0s 134us/step - loss: 0.1291 - accuracy: 0.9871\n",
      "116/116 [==============================] - 0s 336us/step\n",
      "Epoch 1/100\n",
      "232/232 [==============================] - 0s 840us/step - loss: 0.6932 - accuracy: 0.5216\n",
      "Epoch 2/100\n",
      "232/232 [==============================] - 0s 116us/step - loss: 0.6919 - accuracy: 0.5216\n",
      "Epoch 3/100\n",
      "232/232 [==============================] - 0s 125us/step - loss: 0.6908 - accuracy: 0.5216\n",
      "Epoch 4/100\n",
      "232/232 [==============================] - 0s 151us/step - loss: 0.6894 - accuracy: 0.5216\n",
      "Epoch 5/100\n",
      "232/232 [==============================] - 0s 177us/step - loss: 0.6875 - accuracy: 0.5216\n",
      "Epoch 6/100\n",
      "232/232 [==============================] - 0s 121us/step - loss: 0.6852 - accuracy: 0.5216\n",
      "Epoch 7/100\n",
      "232/232 [==============================] - 0s 112us/step - loss: 0.6822 - accuracy: 0.5216\n",
      "Epoch 8/100\n",
      "232/232 [==============================] - 0s 224us/step - loss: 0.6789 - accuracy: 0.5216\n",
      "Epoch 9/100\n",
      "232/232 [==============================] - 0s 121us/step - loss: 0.6695 - accuracy: 0.5216\n",
      "Epoch 10/100\n",
      "232/232 [==============================] - 0s 112us/step - loss: 0.6610 - accuracy: 0.5216\n",
      "Epoch 11/100\n",
      "232/232 [==============================] - 0s 134us/step - loss: 0.6507 - accuracy: 0.5216\n",
      "Epoch 12/100\n",
      "232/232 [==============================] - 0s 116us/step - loss: 0.6362 - accuracy: 0.5216\n",
      "Epoch 13/100\n",
      "232/232 [==============================] - 0s 116us/step - loss: 0.6209 - accuracy: 0.7543\n",
      "Epoch 14/100\n",
      "232/232 [==============================] - 0s 129us/step - loss: 0.5993 - accuracy: 0.7198\n",
      "Epoch 15/100\n",
      "232/232 [==============================] - 0s 142us/step - loss: 0.5765 - accuracy: 0.8233\n",
      "Epoch 16/100\n",
      "232/232 [==============================] - 0s 125us/step - loss: 0.5438 - accuracy: 0.9138\n",
      "Epoch 17/100\n",
      "232/232 [==============================] - 0s 134us/step - loss: 0.5080 - accuracy: 0.8879\n",
      "Epoch 18/100\n",
      "232/232 [==============================] - 0s 138us/step - loss: 0.4763 - accuracy: 0.9009\n",
      "Epoch 19/100\n",
      "232/232 [==============================] - 0s 168us/step - loss: 0.4367 - accuracy: 0.9009\n",
      "Epoch 20/100\n",
      "232/232 [==============================] - 0s 159us/step - loss: 0.3989 - accuracy: 0.9052\n",
      "Epoch 21/100\n",
      "232/232 [==============================] - 0s 168us/step - loss: 0.3696 - accuracy: 0.9310\n",
      "Epoch 22/100\n",
      "232/232 [==============================] - 0s 198us/step - loss: 0.3320 - accuracy: 0.9310\n",
      "Epoch 23/100\n",
      "232/232 [==============================] - 0s 237us/step - loss: 0.3049 - accuracy: 0.9440\n",
      "Epoch 24/100\n",
      "232/232 [==============================] - 0s 138us/step - loss: 0.2993 - accuracy: 0.9267\n",
      "Epoch 25/100\n",
      "232/232 [==============================] - 0s 129us/step - loss: 0.2798 - accuracy: 0.9353\n",
      "Epoch 26/100\n",
      "232/232 [==============================] - 0s 134us/step - loss: 0.2723 - accuracy: 0.9224\n",
      "Epoch 27/100\n",
      "232/232 [==============================] - 0s 129us/step - loss: 0.2400 - accuracy: 0.9267\n",
      "Epoch 28/100\n",
      "232/232 [==============================] - 0s 172us/step - loss: 0.2297 - accuracy: 0.9483\n",
      "Epoch 29/100\n",
      "232/232 [==============================] - 0s 129us/step - loss: 0.2053 - accuracy: 0.9526\n",
      "Epoch 30/100\n",
      "232/232 [==============================] - 0s 121us/step - loss: 0.1948 - accuracy: 0.9526\n",
      "Epoch 31/100\n",
      "232/232 [==============================] - 0s 125us/step - loss: 0.1924 - accuracy: 0.9483\n",
      "Epoch 32/100\n",
      "232/232 [==============================] - 0s 134us/step - loss: 0.1747 - accuracy: 0.9612\n",
      "Epoch 33/100\n",
      "232/232 [==============================] - 0s 125us/step - loss: 0.1703 - accuracy: 0.9655\n",
      "Epoch 34/100\n",
      "232/232 [==============================] - 0s 125us/step - loss: 0.1705 - accuracy: 0.9397\n",
      "Epoch 35/100\n",
      "232/232 [==============================] - 0s 142us/step - loss: 0.1792 - accuracy: 0.9353\n",
      "Epoch 36/100\n",
      "232/232 [==============================] - 0s 134us/step - loss: 0.1607 - accuracy: 0.9612\n",
      "Epoch 37/100\n",
      "232/232 [==============================] - 0s 129us/step - loss: 0.1591 - accuracy: 0.9310\n",
      "Epoch 38/100\n",
      "232/232 [==============================] - 0s 125us/step - loss: 0.1392 - accuracy: 0.9655\n",
      "Epoch 39/100\n",
      "232/232 [==============================] - 0s 116us/step - loss: 0.1382 - accuracy: 0.9569\n",
      "Epoch 40/100\n",
      "232/232 [==============================] - 0s 129us/step - loss: 0.1474 - accuracy: 0.9569\n",
      "Epoch 41/100\n",
      "232/232 [==============================] - 0s 116us/step - loss: 0.1225 - accuracy: 0.9741\n",
      "Epoch 42/100\n",
      "232/232 [==============================] - 0s 121us/step - loss: 0.1214 - accuracy: 0.9655\n",
      "Epoch 43/100\n",
      "232/232 [==============================] - 0s 121us/step - loss: 0.1143 - accuracy: 0.9741\n",
      "Epoch 44/100\n",
      "232/232 [==============================] - 0s 138us/step - loss: 0.1163 - accuracy: 0.9698\n",
      "Epoch 45/100\n",
      "232/232 [==============================] - 0s 138us/step - loss: 0.1130 - accuracy: 0.9784\n",
      "Epoch 46/100\n",
      "232/232 [==============================] - 0s 125us/step - loss: 0.1300 - accuracy: 0.9612\n",
      "Epoch 47/100\n",
      "232/232 [==============================] - 0s 134us/step - loss: 0.1213 - accuracy: 0.9655\n",
      "Epoch 48/100\n",
      "232/232 [==============================] - 0s 159us/step - loss: 0.1102 - accuracy: 0.9612\n",
      "Epoch 49/100\n"
     ]
    },
    {
     "name": "stdout",
     "output_type": "stream",
     "text": [
      "232/232 [==============================] - 0s 125us/step - loss: 0.1156 - accuracy: 0.9655\n",
      "Epoch 50/100\n",
      "232/232 [==============================] - 0s 125us/step - loss: 0.1023 - accuracy: 0.9741\n",
      "Epoch 51/100\n",
      "232/232 [==============================] - ETA: 0s - loss: 0.1025 - accuracy: 0.96 - 0s 138us/step - loss: 0.0968 - accuracy: 0.9784\n",
      "Epoch 52/100\n",
      "232/232 [==============================] - 0s 142us/step - loss: 0.1004 - accuracy: 0.9698\n",
      "Epoch 53/100\n",
      "232/232 [==============================] - 0s 142us/step - loss: 0.0941 - accuracy: 0.9741\n",
      "Epoch 54/100\n",
      "232/232 [==============================] - 0s 121us/step - loss: 0.0873 - accuracy: 0.9784\n",
      "Epoch 55/100\n",
      "232/232 [==============================] - 0s 138us/step - loss: 0.0842 - accuracy: 0.9741\n",
      "Epoch 56/100\n",
      "232/232 [==============================] - 0s 129us/step - loss: 0.0869 - accuracy: 0.9784\n",
      "Epoch 57/100\n",
      "232/232 [==============================] - 0s 134us/step - loss: 0.0807 - accuracy: 0.9784\n",
      "Epoch 58/100\n",
      "232/232 [==============================] - 0s 116us/step - loss: 0.0860 - accuracy: 0.9698\n",
      "Epoch 59/100\n",
      "232/232 [==============================] - 0s 134us/step - loss: 0.0721 - accuracy: 0.9828\n",
      "Epoch 60/100\n",
      "232/232 [==============================] - 0s 134us/step - loss: 0.0726 - accuracy: 0.9784\n",
      "Epoch 61/100\n",
      "232/232 [==============================] - 0s 134us/step - loss: 0.0878 - accuracy: 0.9741\n",
      "Epoch 62/100\n",
      "232/232 [==============================] - 0s 151us/step - loss: 0.0716 - accuracy: 0.9828\n",
      "Epoch 63/100\n",
      "232/232 [==============================] - 0s 138us/step - loss: 0.0695 - accuracy: 0.9828\n",
      "Epoch 64/100\n",
      "232/232 [==============================] - 0s 138us/step - loss: 0.0665 - accuracy: 0.9828\n",
      "Epoch 65/100\n",
      "232/232 [==============================] - ETA: 0s - loss: 0.0727 - accuracy: 0.96 - 0s 138us/step - loss: 0.0676 - accuracy: 0.9784\n",
      "Epoch 66/100\n",
      "232/232 [==============================] - 0s 129us/step - loss: 0.0712 - accuracy: 0.9828\n",
      "Epoch 67/100\n",
      "232/232 [==============================] - 0s 134us/step - loss: 0.0647 - accuracy: 0.9828\n",
      "Epoch 68/100\n",
      "232/232 [==============================] - 0s 142us/step - loss: 0.0628 - accuracy: 0.9871\n",
      "Epoch 69/100\n",
      "232/232 [==============================] - 0s 125us/step - loss: 0.0582 - accuracy: 0.9828\n",
      "Epoch 70/100\n",
      "232/232 [==============================] - 0s 125us/step - loss: 0.0581 - accuracy: 0.9828\n",
      "Epoch 71/100\n",
      "232/232 [==============================] - 0s 125us/step - loss: 0.0711 - accuracy: 0.9828\n",
      "Epoch 72/100\n",
      "232/232 [==============================] - 0s 125us/step - loss: 0.0596 - accuracy: 0.9828\n",
      "Epoch 73/100\n",
      "232/232 [==============================] - 0s 138us/step - loss: 0.0531 - accuracy: 0.9828\n",
      "Epoch 74/100\n",
      "232/232 [==============================] - 0s 121us/step - loss: 0.0646 - accuracy: 0.9914\n",
      "Epoch 75/100\n",
      "232/232 [==============================] - 0s 116us/step - loss: 0.0709 - accuracy: 0.9828\n",
      "Epoch 76/100\n",
      "232/232 [==============================] - 0s 121us/step - loss: 0.0735 - accuracy: 0.9698\n",
      "Epoch 77/100\n",
      "232/232 [==============================] - 0s 134us/step - loss: 0.0736 - accuracy: 0.9698\n",
      "Epoch 78/100\n",
      "232/232 [==============================] - 0s 142us/step - loss: 0.0797 - accuracy: 0.9655\n",
      "Epoch 79/100\n",
      "232/232 [==============================] - 0s 125us/step - loss: 0.0668 - accuracy: 0.9828\n",
      "Epoch 80/100\n",
      "232/232 [==============================] - 0s 116us/step - loss: 0.0669 - accuracy: 0.9828\n",
      "Epoch 81/100\n",
      "232/232 [==============================] - 0s 121us/step - loss: 0.0610 - accuracy: 0.9784\n",
      "Epoch 82/100\n",
      "232/232 [==============================] - 0s 121us/step - loss: 0.0532 - accuracy: 0.9871\n",
      "Epoch 83/100\n",
      "232/232 [==============================] - 0s 134us/step - loss: 0.0448 - accuracy: 0.9914\n",
      "Epoch 84/100\n",
      "232/232 [==============================] - 0s 121us/step - loss: 0.0423 - accuracy: 0.9914\n",
      "Epoch 85/100\n",
      "232/232 [==============================] - 0s 116us/step - loss: 0.0396 - accuracy: 0.9957\n",
      "Epoch 86/100\n",
      "232/232 [==============================] - 0s 125us/step - loss: 0.0387 - accuracy: 0.9957\n",
      "Epoch 87/100\n",
      "232/232 [==============================] - 0s 142us/step - loss: 0.0471 - accuracy: 0.9871\n",
      "Epoch 88/100\n",
      "232/232 [==============================] - 0s 142us/step - loss: 0.0403 - accuracy: 0.9871\n",
      "Epoch 89/100\n",
      "232/232 [==============================] - 0s 138us/step - loss: 0.0385 - accuracy: 0.9914\n",
      "Epoch 90/100\n",
      "232/232 [==============================] - 0s 233us/step - loss: 0.0356 - accuracy: 0.9957\n",
      "Epoch 91/100\n",
      "232/232 [==============================] - 0s 293us/step - loss: 0.0363 - accuracy: 0.9871\n",
      "Epoch 92/100\n",
      "232/232 [==============================] - 0s 116us/step - loss: 0.0348 - accuracy: 0.9957\n",
      "Epoch 93/100\n",
      "232/232 [==============================] - 0s 125us/step - loss: 0.0335 - accuracy: 0.9957\n",
      "Epoch 94/100\n",
      "232/232 [==============================] - 0s 125us/step - loss: 0.0338 - accuracy: 0.9957\n",
      "Epoch 95/100\n",
      "232/232 [==============================] - 0s 116us/step - loss: 0.0337 - accuracy: 0.9914\n",
      "Epoch 96/100\n",
      "232/232 [==============================] - 0s 116us/step - loss: 0.0317 - accuracy: 0.9957\n",
      "Epoch 97/100\n",
      "232/232 [==============================] - 0s 142us/step - loss: 0.0317 - accuracy: 0.9957\n",
      "Epoch 98/100\n",
      "232/232 [==============================] - 0s 129us/step - loss: 0.0476 - accuracy: 0.9914\n",
      "Epoch 99/100\n",
      "232/232 [==============================] - 0s 125us/step - loss: 0.0391 - accuracy: 0.9914\n",
      "Epoch 100/100\n",
      "232/232 [==============================] - 0s 116us/step - loss: 0.0283 - accuracy: 1.0000\n",
      "116/116 [==============================] - 0s 612us/step\n",
      "Epoch 1/100\n",
      "232/232 [==============================] - 0s 926us/step - loss: 0.6932 - accuracy: 0.4957\n",
      "Epoch 2/100\n",
      "232/232 [==============================] - 0s 112us/step - loss: 0.6930 - accuracy: 0.4957\n",
      "Epoch 3/100\n",
      "232/232 [==============================] - 0s 112us/step - loss: 0.6922 - accuracy: 0.4957\n",
      "Epoch 4/100\n",
      "232/232 [==============================] - 0s 108us/step - loss: 0.6910 - accuracy: 0.6466\n",
      "Epoch 5/100\n",
      "232/232 [==============================] - 0s 121us/step - loss: 0.6880 - accuracy: 0.6164\n",
      "Epoch 6/100\n",
      "232/232 [==============================] - 0s 112us/step - loss: 0.6828 - accuracy: 0.5345\n",
      "Epoch 7/100\n",
      "232/232 [==============================] - 0s 108us/step - loss: 0.6738 - accuracy: 0.8147\n",
      "Epoch 8/100\n",
      "232/232 [==============================] - 0s 112us/step - loss: 0.6614 - accuracy: 0.5216\n",
      "Epoch 9/100\n",
      "232/232 [==============================] - 0s 121us/step - loss: 0.6348 - accuracy: 0.8405\n",
      "Epoch 10/100\n",
      "232/232 [==============================] - 0s 125us/step - loss: 0.6050 - accuracy: 0.8448\n",
      "Epoch 11/100\n",
      "232/232 [==============================] - 0s 125us/step - loss: 0.5601 - accuracy: 0.8793\n",
      "Epoch 12/100\n",
      "232/232 [==============================] - 0s 116us/step - loss: 0.5115 - accuracy: 0.8707\n",
      "Epoch 13/100\n",
      "232/232 [==============================] - 0s 129us/step - loss: 0.4706 - accuracy: 0.8448\n",
      "Epoch 14/100\n",
      "232/232 [==============================] - 0s 129us/step - loss: 0.4393 - accuracy: 0.8750\n",
      "Epoch 15/100\n",
      "232/232 [==============================] - 0s 129us/step - loss: 0.3962 - accuracy: 0.8879\n",
      "Epoch 16/100\n",
      "232/232 [==============================] - 0s 125us/step - loss: 0.3515 - accuracy: 0.8922\n",
      "Epoch 17/100\n",
      "232/232 [==============================] - 0s 125us/step - loss: 0.3389 - accuracy: 0.8879\n",
      "Epoch 18/100\n",
      "232/232 [==============================] - 0s 125us/step - loss: 0.3092 - accuracy: 0.9009\n",
      "Epoch 19/100\n",
      "232/232 [==============================] - 0s 134us/step - loss: 0.2899 - accuracy: 0.9095\n",
      "Epoch 20/100\n",
      "232/232 [==============================] - 0s 129us/step - loss: 0.2640 - accuracy: 0.9138\n",
      "Epoch 21/100\n",
      "232/232 [==============================] - 0s 125us/step - loss: 0.2470 - accuracy: 0.9267\n",
      "Epoch 22/100\n",
      "232/232 [==============================] - 0s 129us/step - loss: 0.2335 - accuracy: 0.9224\n",
      "Epoch 23/100\n",
      "232/232 [==============================] - 0s 121us/step - loss: 0.2171 - accuracy: 0.9440\n",
      "Epoch 24/100\n",
      "232/232 [==============================] - 0s 125us/step - loss: 0.2077 - accuracy: 0.9224\n",
      "Epoch 25/100\n",
      "232/232 [==============================] - 0s 112us/step - loss: 0.1945 - accuracy: 0.9397\n",
      "Epoch 26/100\n"
     ]
    },
    {
     "name": "stdout",
     "output_type": "stream",
     "text": [
      "232/232 [==============================] - 0s 121us/step - loss: 0.1847 - accuracy: 0.9397\n",
      "Epoch 27/100\n",
      "232/232 [==============================] - 0s 121us/step - loss: 0.1783 - accuracy: 0.9353\n",
      "Epoch 28/100\n",
      "232/232 [==============================] - 0s 362us/step - loss: 0.1673 - accuracy: 0.9440\n",
      "Epoch 29/100\n",
      "232/232 [==============================] - 0s 146us/step - loss: 0.1637 - accuracy: 0.9526\n",
      "Epoch 30/100\n",
      "232/232 [==============================] - 0s 142us/step - loss: 0.1649 - accuracy: 0.9440\n",
      "Epoch 31/100\n",
      "232/232 [==============================] - ETA: 0s - loss: 0.1355 - accuracy: 1.00 - 0s 151us/step - loss: 0.1605 - accuracy: 0.9440\n",
      "Epoch 32/100\n",
      "232/232 [==============================] - 0s 134us/step - loss: 0.1527 - accuracy: 0.9483\n",
      "Epoch 33/100\n",
      "232/232 [==============================] - 0s 121us/step - loss: 0.1405 - accuracy: 0.9483\n",
      "Epoch 34/100\n",
      "232/232 [==============================] - 0s 129us/step - loss: 0.1431 - accuracy: 0.9526\n",
      "Epoch 35/100\n",
      "232/232 [==============================] - 0s 142us/step - loss: 0.1413 - accuracy: 0.9569\n",
      "Epoch 36/100\n",
      "232/232 [==============================] - 0s 121us/step - loss: 0.1389 - accuracy: 0.9440\n",
      "Epoch 37/100\n",
      "232/232 [==============================] - 0s 116us/step - loss: 0.1141 - accuracy: 0.9612\n",
      "Epoch 38/100\n",
      "232/232 [==============================] - 0s 121us/step - loss: 0.1123 - accuracy: 0.9655\n",
      "Epoch 39/100\n",
      "232/232 [==============================] - 0s 129us/step - loss: 0.1115 - accuracy: 0.9741\n",
      "Epoch 40/100\n",
      "232/232 [==============================] - 0s 125us/step - loss: 0.1117 - accuracy: 0.9655\n",
      "Epoch 41/100\n",
      "232/232 [==============================] - 0s 129us/step - loss: 0.1050 - accuracy: 0.9655\n",
      "Epoch 42/100\n",
      "232/232 [==============================] - 0s 151us/step - loss: 0.1025 - accuracy: 0.9655\n",
      "Epoch 43/100\n",
      "232/232 [==============================] - 0s 151us/step - loss: 0.1074 - accuracy: 0.9784\n",
      "Epoch 44/100\n",
      "232/232 [==============================] - 0s 190us/step - loss: 0.0986 - accuracy: 0.9655\n",
      "Epoch 45/100\n",
      "232/232 [==============================] - 0s 181us/step - loss: 0.0940 - accuracy: 0.9698\n",
      "Epoch 46/100\n",
      "232/232 [==============================] - 0s 129us/step - loss: 0.0930 - accuracy: 0.9784\n",
      "Epoch 47/100\n",
      "232/232 [==============================] - 0s 116us/step - loss: 0.1092 - accuracy: 0.9569\n",
      "Epoch 48/100\n",
      "232/232 [==============================] - 0s 121us/step - loss: 0.0997 - accuracy: 0.9569\n",
      "Epoch 49/100\n",
      "232/232 [==============================] - 0s 129us/step - loss: 0.0852 - accuracy: 0.9741\n",
      "Epoch 50/100\n",
      "232/232 [==============================] - 0s 125us/step - loss: 0.0876 - accuracy: 0.9871\n",
      "Epoch 51/100\n",
      "232/232 [==============================] - 0s 121us/step - loss: 0.1158 - accuracy: 0.9569\n",
      "Epoch 52/100\n",
      "232/232 [==============================] - 0s 125us/step - loss: 0.0930 - accuracy: 0.9784\n",
      "Epoch 53/100\n",
      "232/232 [==============================] - 0s 134us/step - loss: 0.1202 - accuracy: 0.9483\n",
      "Epoch 54/100\n",
      "232/232 [==============================] - 0s 142us/step - loss: 0.1531 - accuracy: 0.9310\n",
      "Epoch 55/100\n",
      "232/232 [==============================] - 0s 129us/step - loss: 0.1214 - accuracy: 0.9569\n",
      "Epoch 56/100\n",
      "232/232 [==============================] - 0s 129us/step - loss: 0.0769 - accuracy: 0.9784\n",
      "Epoch 57/100\n",
      "232/232 [==============================] - 0s 121us/step - loss: 0.0804 - accuracy: 0.9698\n",
      "Epoch 58/100\n",
      "232/232 [==============================] - 0s 116us/step - loss: 0.0698 - accuracy: 0.9784\n",
      "Epoch 59/100\n",
      "232/232 [==============================] - 0s 121us/step - loss: 0.0679 - accuracy: 0.9784\n",
      "Epoch 60/100\n",
      "232/232 [==============================] - 0s 125us/step - loss: 0.0844 - accuracy: 0.9698\n",
      "Epoch 61/100\n",
      "232/232 [==============================] - 0s 129us/step - loss: 0.0645 - accuracy: 0.9871\n",
      "Epoch 62/100\n",
      "232/232 [==============================] - 0s 121us/step - loss: 0.0726 - accuracy: 0.9698\n",
      "Epoch 63/100\n",
      "232/232 [==============================] - 0s 121us/step - loss: 0.0661 - accuracy: 0.9871\n",
      "Epoch 64/100\n",
      "232/232 [==============================] - 0s 125us/step - loss: 0.0638 - accuracy: 0.9784\n",
      "Epoch 65/100\n",
      "232/232 [==============================] - 0s 125us/step - loss: 0.0628 - accuracy: 0.9784\n",
      "Epoch 66/100\n",
      "232/232 [==============================] - 0s 121us/step - loss: 0.0615 - accuracy: 0.9871\n",
      "Epoch 67/100\n",
      "232/232 [==============================] - 0s 121us/step - loss: 0.0572 - accuracy: 0.9828\n",
      "Epoch 68/100\n",
      "232/232 [==============================] - 0s 121us/step - loss: 0.0651 - accuracy: 0.9784\n",
      "Epoch 69/100\n",
      "232/232 [==============================] - 0s 142us/step - loss: 0.0554 - accuracy: 0.9914\n",
      "Epoch 70/100\n",
      "232/232 [==============================] - 0s 134us/step - loss: 0.0781 - accuracy: 0.9741\n",
      "Epoch 71/100\n",
      "232/232 [==============================] - 0s 138us/step - loss: 0.0972 - accuracy: 0.9612\n",
      "Epoch 72/100\n",
      "232/232 [==============================] - 0s 134us/step - loss: 0.0640 - accuracy: 0.9784\n",
      "Epoch 73/100\n",
      "232/232 [==============================] - 0s 129us/step - loss: 0.0596 - accuracy: 0.9828\n",
      "Epoch 74/100\n",
      "232/232 [==============================] - 0s 129us/step - loss: 0.0563 - accuracy: 0.9914\n",
      "Epoch 75/100\n",
      "232/232 [==============================] - 0s 138us/step - loss: 0.0560 - accuracy: 0.9871\n",
      "Epoch 76/100\n",
      "232/232 [==============================] - 0s 146us/step - loss: 0.0511 - accuracy: 0.9871\n",
      "Epoch 77/100\n",
      "232/232 [==============================] - 0s 134us/step - loss: 0.0553 - accuracy: 0.9784\n",
      "Epoch 78/100\n",
      "232/232 [==============================] - 0s 121us/step - loss: 0.0563 - accuracy: 0.9871\n",
      "Epoch 79/100\n",
      "232/232 [==============================] - 0s 121us/step - loss: 0.0556 - accuracy: 0.9828\n",
      "Epoch 80/100\n",
      "232/232 [==============================] - 0s 116us/step - loss: 0.0562 - accuracy: 0.9828\n",
      "Epoch 81/100\n",
      "232/232 [==============================] - 0s 121us/step - loss: 0.0498 - accuracy: 0.9914\n",
      "Epoch 82/100\n",
      "232/232 [==============================] - 0s 121us/step - loss: 0.0488 - accuracy: 0.9871\n",
      "Epoch 83/100\n",
      "232/232 [==============================] - 0s 125us/step - loss: 0.0968 - accuracy: 0.9698\n",
      "Epoch 84/100\n",
      "232/232 [==============================] - 0s 138us/step - loss: 0.0607 - accuracy: 0.9784\n",
      "Epoch 85/100\n",
      "232/232 [==============================] - 0s 185us/step - loss: 0.0477 - accuracy: 0.9914\n",
      "Epoch 86/100\n",
      "232/232 [==============================] - 0s 151us/step - loss: 0.0494 - accuracy: 0.9871\n",
      "Epoch 87/100\n",
      "232/232 [==============================] - 0s 168us/step - loss: 0.0488 - accuracy: 0.9914\n",
      "Epoch 88/100\n",
      "232/232 [==============================] - 0s 138us/step - loss: 0.0819 - accuracy: 0.9698\n",
      "Epoch 89/100\n",
      "232/232 [==============================] - 0s 125us/step - loss: 0.0495 - accuracy: 0.9871\n",
      "Epoch 90/100\n",
      "232/232 [==============================] - 0s 129us/step - loss: 0.0559 - accuracy: 0.9828\n",
      "Epoch 91/100\n",
      "232/232 [==============================] - ETA: 0s - loss: 0.0620 - accuracy: 0.96 - 0s 142us/step - loss: 0.0584 - accuracy: 0.9741\n",
      "Epoch 92/100\n",
      "232/232 [==============================] - 0s 129us/step - loss: 0.0362 - accuracy: 0.9914\n",
      "Epoch 93/100\n",
      "232/232 [==============================] - 0s 134us/step - loss: 0.0365 - accuracy: 0.9871\n",
      "Epoch 94/100\n",
      "232/232 [==============================] - 0s 134us/step - loss: 0.0431 - accuracy: 0.9914\n",
      "Epoch 95/100\n",
      "232/232 [==============================] - 0s 134us/step - loss: 0.0372 - accuracy: 0.9914\n",
      "Epoch 96/100\n",
      "232/232 [==============================] - 0s 125us/step - loss: 0.0355 - accuracy: 0.9957\n",
      "Epoch 97/100\n",
      "232/232 [==============================] - 0s 129us/step - loss: 0.0432 - accuracy: 0.9914\n",
      "Epoch 98/100\n",
      "232/232 [==============================] - 0s 134us/step - loss: 0.0432 - accuracy: 0.9828\n",
      "Epoch 99/100\n",
      "232/232 [==============================] - 0s 164us/step - loss: 0.0383 - accuracy: 0.9914\n",
      "Epoch 100/100\n",
      "232/232 [==============================] - 0s 129us/step - loss: 0.0357 - accuracy: 0.9871\n",
      "116/116 [==============================] - 0s 689us/step\n",
      "Accuracy mean: 0.9511494239171346\n",
      "Accuracy variance: 0.01625530892527764\n"
     ]
    }
   ],
   "source": [
    "# Evaluating the ANN\n",
    "from keras.wrappers.scikit_learn import KerasClassifier\n",
    "from sklearn.model_selection import cross_val_score\n",
    "from keras.models import Sequential # 신경망 라이브러리를 초기화합니다.\n",
    "from keras.layers import Dense \n",
    "def build_classifier():\n",
    "    classifier = Sequential() # neural network 를 초기화 합니다\n",
    "    classifier.add(Dense(units = 8, kernel_initializer = 'uniform', activation = 'relu', input_dim = x_train.shape[1]))\n",
    "    classifier.add(Dense(units = 4, kernel_initializer = 'uniform', activation = 'relu'))\n",
    "    classifier.add(Dense(units = 1, kernel_initializer = 'uniform', activation = 'sigmoid'))\n",
    "    classifier.compile(optimizer = 'adam', loss = 'binary_crossentropy', metrics = ['accuracy'])\n",
    "    return classifier\n",
    "classifier = KerasClassifier(build_fn = build_classifier, epochs = 100)\n",
    "accuracies = cross_val_score(estimator = classifier, X = x_train, y = y_train, cv = 3)\n",
    "mean = accuracies.mean()\n",
    "variance = accuracies.std()\n",
    "print(\"Accuracy mean: \"+ str(mean))\n",
    "print(\"Accuracy variance: \"+ str(variance))"
   ]
  },
  {
   "cell_type": "markdown",
   "metadata": {
    "_cell_guid": "3963de5c-1b2e-45ec-b499-4c404afa8595",
    "_uuid": "a73620b9d04cd7627e7da9961db541140dfd8467"
   },
   "source": [
    "<a id=\"23\"></a> <br>\n",
    "## Artificial Neural Network with Pytorch library.\n",
    "* Pytorch 는 keras 와 같은 프레임 중 하나입니다.\n",
    "* 딥러닝의 구현 및 구축이 편리합니다.  \n",
    "* Artificial Neural Network: https://www.kaggle.com/kanncaa1/pytorch-tutorial-for-deep-learning-lovers"
   ]
  },
  {
   "cell_type": "markdown",
   "metadata": {
    "_cell_guid": "1a62d8b1-8308-4654-bdfd-479965ee08af",
    "_uuid": "dc3f380e7953a5c3bb6580b30c0da7cb94599c81"
   },
   "source": [
    "<a id=\"20\"></a> <br>\n",
    "# Conclusion\n",
    "* 먼저 우리는 이 데이터 세트에 감사합니다.\n",
    "* 맞춤법이 틀린것들은(너무 많이 틀릴 수 있음) 무시해주세요 :)\n",
    "* 이 튜토리얼은 얕으며, 일부 개념에 대한 자세한 내용을 원하면 코멘트를 할 수 있습니다.\n",
    "* 내가 몇 가지 개념을 이해할 수 없다고 생각되면 유튜브(특히 앤드류)에서 배운 후 계속 진행하십시오.\n",
    "* Python 또는 Machine Learning과 관련된 내용을 이해하지 못하는 경우 다른 튜토리얼을 확인하십시오.\n",
    "    * Data Science: https://www.kaggle.com/kanncaa1/data-sciencetutorial-for-beginners\n",
    "    * Machine learning: https://www.kaggle.com/kanncaa1/machine-learning-tutorial-for-beginners\n",
    "* 이제 나는 당신이 deep learning 이 무엇인지 이해하고 배우기를 바랍니다. 그러나 우리는 딥러닝 모델을 구축하기 위해 매번 긴 코드를 쓰지 않습니다. 따라서 딥러닝 모델을 빠르고 쉽게 구축하기 위한 딥러닝 프레임 작업이 있습니다.\n",
    "    * Artificial Neural Network: https://www.kaggle.com/kanncaa1/pytorch-tutorial-for-deep-learning-lovers\n",
    "    * Convolutional Neural Network: https://www.kaggle.com/kanncaa1/pytorch-tutorial-for-deep-learning-lovers\n",
    "    * Recurrent Neural Network: https://www.kaggle.com/kanncaa1/recurrent-neural-network-with-pytorch\n",
    "     \n",
    "\n",
    "# 감사합니다"
   ]
  }
 ],
 "metadata": {
  "kernelspec": {
   "display_name": "Python 3",
   "language": "python",
   "name": "python3"
  },
  "language_info": {
   "codemirror_mode": {
    "name": "ipython",
    "version": 3
   },
   "file_extension": ".py",
   "mimetype": "text/x-python",
   "name": "python",
   "nbconvert_exporter": "python",
   "pygments_lexer": "ipython3",
   "version": "3.7.3"
  }
 },
 "nbformat": 4,
 "nbformat_minor": 4
}
